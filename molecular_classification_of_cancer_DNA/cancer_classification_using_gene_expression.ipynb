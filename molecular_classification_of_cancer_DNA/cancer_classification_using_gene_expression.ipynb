{
 "cells": [
  {
   "cell_type": "markdown",
   "metadata": {
    "colab_type": "text",
    "id": "jsTssZTEh8Pk"
   },
   "source": [
    "https://www.kaggle.com/crawford/gene-expression ---- This dataset comes from a proof-of-concept study published in 1999 by Golub et al. It showed how new cases of cancer could be classified by gene expression monitoring (via DNA microarray).These data were used to classify patients with acute myeloid leukemia (AML) and acute lymphoblastic leukemia (ALL).Intensity values have been re-scaled such that overall intensities for each chip are equivalent."
   ]
  },
  {
   "cell_type": "code",
   "execution_count": 1,
   "metadata": {
    "colab": {
     "base_uri": "https://localhost:8080/",
     "height": 72
    },
    "colab_type": "code",
    "id": "jeuWiPjGosnY",
    "outputId": "8e5bf054-be2a-4c62-9f5f-e4d88abc636e"
   },
   "outputs": [],
   "source": [
    "import numpy as np\n",
    "import pandas as pd\n",
    "import matplotlib.pyplot as plt\n",
    "import seaborn as sns"
   ]
  },
  {
   "cell_type": "code",
   "execution_count": 2,
   "metadata": {
    "colab": {},
    "colab_type": "code",
    "id": "F2GGSEcdquZ_"
   },
   "outputs": [],
   "source": [
    "from sklearn.decomposition import PCA"
   ]
  },
  {
   "cell_type": "code",
   "execution_count": 3,
   "metadata": {
    "colab": {
     "base_uri": "https://localhost:8080/",
     "height": 202
    },
    "colab_type": "code",
    "id": "pzMS2SEUrHpK",
    "outputId": "b018b770-4d39-4f14-f905-57f6810a97b8"
   },
   "outputs": [
    {
     "data": {
      "text/html": [
       "<div>\n",
       "<style scoped>\n",
       "    .dataframe tbody tr th:only-of-type {\n",
       "        vertical-align: middle;\n",
       "    }\n",
       "\n",
       "    .dataframe tbody tr th {\n",
       "        vertical-align: top;\n",
       "    }\n",
       "\n",
       "    .dataframe thead th {\n",
       "        text-align: right;\n",
       "    }\n",
       "</style>\n",
       "<table border=\"1\" class=\"dataframe\">\n",
       "  <thead>\n",
       "    <tr style=\"text-align: right;\">\n",
       "      <th></th>\n",
       "      <th>patient</th>\n",
       "      <th>cancer</th>\n",
       "    </tr>\n",
       "  </thead>\n",
       "  <tbody>\n",
       "    <tr>\n",
       "      <th>0</th>\n",
       "      <td>1</td>\n",
       "      <td>ALL</td>\n",
       "    </tr>\n",
       "    <tr>\n",
       "      <th>1</th>\n",
       "      <td>2</td>\n",
       "      <td>ALL</td>\n",
       "    </tr>\n",
       "    <tr>\n",
       "      <th>2</th>\n",
       "      <td>3</td>\n",
       "      <td>ALL</td>\n",
       "    </tr>\n",
       "    <tr>\n",
       "      <th>3</th>\n",
       "      <td>4</td>\n",
       "      <td>ALL</td>\n",
       "    </tr>\n",
       "    <tr>\n",
       "      <th>4</th>\n",
       "      <td>5</td>\n",
       "      <td>ALL</td>\n",
       "    </tr>\n",
       "  </tbody>\n",
       "</table>\n",
       "</div>"
      ],
      "text/plain": [
       "   patient cancer\n",
       "0        1    ALL\n",
       "1        2    ALL\n",
       "2        3    ALL\n",
       "3        4    ALL\n",
       "4        5    ALL"
      ]
     },
     "execution_count": 3,
     "metadata": {},
     "output_type": "execute_result"
    }
   ],
   "source": [
    "trainset = pd.read_csv(\"actual.csv\")\n",
    "trainset.head()"
   ]
  },
  {
   "cell_type": "code",
   "execution_count": 4,
   "metadata": {
    "colab": {
     "base_uri": "https://localhost:8080/",
     "height": 517
    },
    "colab_type": "code",
    "id": "vgaWJorD6FlQ",
    "outputId": "74bfc7b7-fba0-4f4b-91fd-a54a43616d7d"
   },
   "outputs": [
    {
     "data": {
      "text/html": [
       "<div>\n",
       "<style scoped>\n",
       "    .dataframe tbody tr th:only-of-type {\n",
       "        vertical-align: middle;\n",
       "    }\n",
       "\n",
       "    .dataframe tbody tr th {\n",
       "        vertical-align: top;\n",
       "    }\n",
       "\n",
       "    .dataframe thead th {\n",
       "        text-align: right;\n",
       "    }\n",
       "</style>\n",
       "<table border=\"1\" class=\"dataframe\">\n",
       "  <thead>\n",
       "    <tr style=\"text-align: right;\">\n",
       "      <th></th>\n",
       "      <th>Gene Description</th>\n",
       "      <th>Gene Accession Number</th>\n",
       "      <th>1</th>\n",
       "      <th>call</th>\n",
       "      <th>2</th>\n",
       "      <th>call.1</th>\n",
       "      <th>3</th>\n",
       "      <th>call.2</th>\n",
       "      <th>4</th>\n",
       "      <th>call.3</th>\n",
       "      <th>...</th>\n",
       "      <th>29</th>\n",
       "      <th>call.33</th>\n",
       "      <th>30</th>\n",
       "      <th>call.34</th>\n",
       "      <th>31</th>\n",
       "      <th>call.35</th>\n",
       "      <th>32</th>\n",
       "      <th>call.36</th>\n",
       "      <th>33</th>\n",
       "      <th>call.37</th>\n",
       "    </tr>\n",
       "  </thead>\n",
       "  <tbody>\n",
       "    <tr>\n",
       "      <th>0</th>\n",
       "      <td>AFFX-BioB-5_at (endogenous control)</td>\n",
       "      <td>AFFX-BioB-5_at</td>\n",
       "      <td>-214</td>\n",
       "      <td>A</td>\n",
       "      <td>-139</td>\n",
       "      <td>A</td>\n",
       "      <td>-76</td>\n",
       "      <td>A</td>\n",
       "      <td>-135</td>\n",
       "      <td>A</td>\n",
       "      <td>...</td>\n",
       "      <td>15</td>\n",
       "      <td>A</td>\n",
       "      <td>-318</td>\n",
       "      <td>A</td>\n",
       "      <td>-32</td>\n",
       "      <td>A</td>\n",
       "      <td>-124</td>\n",
       "      <td>A</td>\n",
       "      <td>-135</td>\n",
       "      <td>A</td>\n",
       "    </tr>\n",
       "    <tr>\n",
       "      <th>1</th>\n",
       "      <td>AFFX-BioB-M_at (endogenous control)</td>\n",
       "      <td>AFFX-BioB-M_at</td>\n",
       "      <td>-153</td>\n",
       "      <td>A</td>\n",
       "      <td>-73</td>\n",
       "      <td>A</td>\n",
       "      <td>-49</td>\n",
       "      <td>A</td>\n",
       "      <td>-114</td>\n",
       "      <td>A</td>\n",
       "      <td>...</td>\n",
       "      <td>-114</td>\n",
       "      <td>A</td>\n",
       "      <td>-192</td>\n",
       "      <td>A</td>\n",
       "      <td>-49</td>\n",
       "      <td>A</td>\n",
       "      <td>-79</td>\n",
       "      <td>A</td>\n",
       "      <td>-186</td>\n",
       "      <td>A</td>\n",
       "    </tr>\n",
       "    <tr>\n",
       "      <th>2</th>\n",
       "      <td>AFFX-BioB-3_at (endogenous control)</td>\n",
       "      <td>AFFX-BioB-3_at</td>\n",
       "      <td>-58</td>\n",
       "      <td>A</td>\n",
       "      <td>-1</td>\n",
       "      <td>A</td>\n",
       "      <td>-307</td>\n",
       "      <td>A</td>\n",
       "      <td>265</td>\n",
       "      <td>A</td>\n",
       "      <td>...</td>\n",
       "      <td>2</td>\n",
       "      <td>A</td>\n",
       "      <td>-95</td>\n",
       "      <td>A</td>\n",
       "      <td>49</td>\n",
       "      <td>A</td>\n",
       "      <td>-37</td>\n",
       "      <td>A</td>\n",
       "      <td>-70</td>\n",
       "      <td>A</td>\n",
       "    </tr>\n",
       "    <tr>\n",
       "      <th>3</th>\n",
       "      <td>AFFX-BioC-5_at (endogenous control)</td>\n",
       "      <td>AFFX-BioC-5_at</td>\n",
       "      <td>88</td>\n",
       "      <td>A</td>\n",
       "      <td>283</td>\n",
       "      <td>A</td>\n",
       "      <td>309</td>\n",
       "      <td>A</td>\n",
       "      <td>12</td>\n",
       "      <td>A</td>\n",
       "      <td>...</td>\n",
       "      <td>193</td>\n",
       "      <td>A</td>\n",
       "      <td>312</td>\n",
       "      <td>A</td>\n",
       "      <td>230</td>\n",
       "      <td>P</td>\n",
       "      <td>330</td>\n",
       "      <td>A</td>\n",
       "      <td>337</td>\n",
       "      <td>A</td>\n",
       "    </tr>\n",
       "    <tr>\n",
       "      <th>4</th>\n",
       "      <td>AFFX-BioC-3_at (endogenous control)</td>\n",
       "      <td>AFFX-BioC-3_at</td>\n",
       "      <td>-295</td>\n",
       "      <td>A</td>\n",
       "      <td>-264</td>\n",
       "      <td>A</td>\n",
       "      <td>-376</td>\n",
       "      <td>A</td>\n",
       "      <td>-419</td>\n",
       "      <td>A</td>\n",
       "      <td>...</td>\n",
       "      <td>-51</td>\n",
       "      <td>A</td>\n",
       "      <td>-139</td>\n",
       "      <td>A</td>\n",
       "      <td>-367</td>\n",
       "      <td>A</td>\n",
       "      <td>-188</td>\n",
       "      <td>A</td>\n",
       "      <td>-407</td>\n",
       "      <td>A</td>\n",
       "    </tr>\n",
       "  </tbody>\n",
       "</table>\n",
       "<p>5 rows × 78 columns</p>\n",
       "</div>"
      ],
      "text/plain": [
       "                      Gene Description Gene Accession Number    1 call    2  \\\n",
       "0  AFFX-BioB-5_at (endogenous control)        AFFX-BioB-5_at -214    A -139   \n",
       "1  AFFX-BioB-M_at (endogenous control)        AFFX-BioB-M_at -153    A  -73   \n",
       "2  AFFX-BioB-3_at (endogenous control)        AFFX-BioB-3_at  -58    A   -1   \n",
       "3  AFFX-BioC-5_at (endogenous control)        AFFX-BioC-5_at   88    A  283   \n",
       "4  AFFX-BioC-3_at (endogenous control)        AFFX-BioC-3_at -295    A -264   \n",
       "\n",
       "  call.1    3 call.2    4 call.3  ...   29 call.33   30 call.34   31 call.35  \\\n",
       "0      A  -76      A -135      A  ...   15       A -318       A  -32       A   \n",
       "1      A  -49      A -114      A  ... -114       A -192       A  -49       A   \n",
       "2      A -307      A  265      A  ...    2       A  -95       A   49       A   \n",
       "3      A  309      A   12      A  ...  193       A  312       A  230       P   \n",
       "4      A -376      A -419      A  ...  -51       A -139       A -367       A   \n",
       "\n",
       "    32 call.36   33 call.37  \n",
       "0 -124       A -135       A  \n",
       "1  -79       A -186       A  \n",
       "2  -37       A  -70       A  \n",
       "3  330       A  337       A  \n",
       "4 -188       A -407       A  \n",
       "\n",
       "[5 rows x 78 columns]"
      ]
     },
     "execution_count": 4,
     "metadata": {},
     "output_type": "execute_result"
    }
   ],
   "source": [
    "train_x = pd.read_csv(\"data_set_ALL_AML_train.csv\")\n",
    "train_x.head()"
   ]
  },
  {
   "cell_type": "code",
   "execution_count": 5,
   "metadata": {
    "colab": {
     "base_uri": "https://localhost:8080/",
     "height": 534
    },
    "colab_type": "code",
    "id": "FTkfeHgXZoMK",
    "outputId": "c778f508-7c91-4b13-8e83-74db4dc9d3c4"
   },
   "outputs": [
    {
     "name": "stdout",
     "output_type": "stream",
     "text": [
      "<class 'pandas.core.frame.DataFrame'>\n"
     ]
    },
    {
     "data": {
      "text/html": [
       "<div>\n",
       "<style scoped>\n",
       "    .dataframe tbody tr th:only-of-type {\n",
       "        vertical-align: middle;\n",
       "    }\n",
       "\n",
       "    .dataframe tbody tr th {\n",
       "        vertical-align: top;\n",
       "    }\n",
       "\n",
       "    .dataframe thead th {\n",
       "        text-align: right;\n",
       "    }\n",
       "</style>\n",
       "<table border=\"1\" class=\"dataframe\">\n",
       "  <thead>\n",
       "    <tr style=\"text-align: right;\">\n",
       "      <th></th>\n",
       "      <th>Gene Description</th>\n",
       "      <th>Gene Accession Number</th>\n",
       "      <th>39</th>\n",
       "      <th>call</th>\n",
       "      <th>40</th>\n",
       "      <th>call.1</th>\n",
       "      <th>42</th>\n",
       "      <th>call.2</th>\n",
       "      <th>47</th>\n",
       "      <th>call.3</th>\n",
       "      <th>...</th>\n",
       "      <th>65</th>\n",
       "      <th>call.29</th>\n",
       "      <th>66</th>\n",
       "      <th>call.30</th>\n",
       "      <th>63</th>\n",
       "      <th>call.31</th>\n",
       "      <th>64</th>\n",
       "      <th>call.32</th>\n",
       "      <th>62</th>\n",
       "      <th>call.33</th>\n",
       "    </tr>\n",
       "  </thead>\n",
       "  <tbody>\n",
       "    <tr>\n",
       "      <th>0</th>\n",
       "      <td>AFFX-BioB-5_at (endogenous control)</td>\n",
       "      <td>AFFX-BioB-5_at</td>\n",
       "      <td>-342</td>\n",
       "      <td>A</td>\n",
       "      <td>-87</td>\n",
       "      <td>A</td>\n",
       "      <td>22</td>\n",
       "      <td>A</td>\n",
       "      <td>-243</td>\n",
       "      <td>A</td>\n",
       "      <td>...</td>\n",
       "      <td>-62</td>\n",
       "      <td>A</td>\n",
       "      <td>-58</td>\n",
       "      <td>A</td>\n",
       "      <td>-161</td>\n",
       "      <td>A</td>\n",
       "      <td>-48</td>\n",
       "      <td>A</td>\n",
       "      <td>-176</td>\n",
       "      <td>A</td>\n",
       "    </tr>\n",
       "    <tr>\n",
       "      <th>1</th>\n",
       "      <td>AFFX-BioB-M_at (endogenous control)</td>\n",
       "      <td>AFFX-BioB-M_at</td>\n",
       "      <td>-200</td>\n",
       "      <td>A</td>\n",
       "      <td>-248</td>\n",
       "      <td>A</td>\n",
       "      <td>-153</td>\n",
       "      <td>A</td>\n",
       "      <td>-218</td>\n",
       "      <td>A</td>\n",
       "      <td>...</td>\n",
       "      <td>-198</td>\n",
       "      <td>A</td>\n",
       "      <td>-217</td>\n",
       "      <td>A</td>\n",
       "      <td>-215</td>\n",
       "      <td>A</td>\n",
       "      <td>-531</td>\n",
       "      <td>A</td>\n",
       "      <td>-284</td>\n",
       "      <td>A</td>\n",
       "    </tr>\n",
       "    <tr>\n",
       "      <th>2</th>\n",
       "      <td>AFFX-BioB-3_at (endogenous control)</td>\n",
       "      <td>AFFX-BioB-3_at</td>\n",
       "      <td>41</td>\n",
       "      <td>A</td>\n",
       "      <td>262</td>\n",
       "      <td>A</td>\n",
       "      <td>17</td>\n",
       "      <td>A</td>\n",
       "      <td>-163</td>\n",
       "      <td>A</td>\n",
       "      <td>...</td>\n",
       "      <td>-5</td>\n",
       "      <td>A</td>\n",
       "      <td>63</td>\n",
       "      <td>A</td>\n",
       "      <td>-46</td>\n",
       "      <td>A</td>\n",
       "      <td>-124</td>\n",
       "      <td>A</td>\n",
       "      <td>-81</td>\n",
       "      <td>A</td>\n",
       "    </tr>\n",
       "    <tr>\n",
       "      <th>3</th>\n",
       "      <td>AFFX-BioC-5_at (endogenous control)</td>\n",
       "      <td>AFFX-BioC-5_at</td>\n",
       "      <td>328</td>\n",
       "      <td>A</td>\n",
       "      <td>295</td>\n",
       "      <td>A</td>\n",
       "      <td>276</td>\n",
       "      <td>A</td>\n",
       "      <td>182</td>\n",
       "      <td>A</td>\n",
       "      <td>...</td>\n",
       "      <td>141</td>\n",
       "      <td>A</td>\n",
       "      <td>95</td>\n",
       "      <td>A</td>\n",
       "      <td>146</td>\n",
       "      <td>A</td>\n",
       "      <td>431</td>\n",
       "      <td>A</td>\n",
       "      <td>9</td>\n",
       "      <td>A</td>\n",
       "    </tr>\n",
       "    <tr>\n",
       "      <th>4</th>\n",
       "      <td>AFFX-BioC-3_at (endogenous control)</td>\n",
       "      <td>AFFX-BioC-3_at</td>\n",
       "      <td>-224</td>\n",
       "      <td>A</td>\n",
       "      <td>-226</td>\n",
       "      <td>A</td>\n",
       "      <td>-211</td>\n",
       "      <td>A</td>\n",
       "      <td>-289</td>\n",
       "      <td>A</td>\n",
       "      <td>...</td>\n",
       "      <td>-256</td>\n",
       "      <td>A</td>\n",
       "      <td>-191</td>\n",
       "      <td>A</td>\n",
       "      <td>-172</td>\n",
       "      <td>A</td>\n",
       "      <td>-496</td>\n",
       "      <td>A</td>\n",
       "      <td>-294</td>\n",
       "      <td>A</td>\n",
       "    </tr>\n",
       "  </tbody>\n",
       "</table>\n",
       "<p>5 rows × 70 columns</p>\n",
       "</div>"
      ],
      "text/plain": [
       "                      Gene Description Gene Accession Number   39 call   40  \\\n",
       "0  AFFX-BioB-5_at (endogenous control)        AFFX-BioB-5_at -342    A  -87   \n",
       "1  AFFX-BioB-M_at (endogenous control)        AFFX-BioB-M_at -200    A -248   \n",
       "2  AFFX-BioB-3_at (endogenous control)        AFFX-BioB-3_at   41    A  262   \n",
       "3  AFFX-BioC-5_at (endogenous control)        AFFX-BioC-5_at  328    A  295   \n",
       "4  AFFX-BioC-3_at (endogenous control)        AFFX-BioC-3_at -224    A -226   \n",
       "\n",
       "  call.1   42 call.2   47 call.3  ...   65 call.29   66 call.30   63 call.31  \\\n",
       "0      A   22      A -243      A  ...  -62       A  -58       A -161       A   \n",
       "1      A -153      A -218      A  ... -198       A -217       A -215       A   \n",
       "2      A   17      A -163      A  ...   -5       A   63       A  -46       A   \n",
       "3      A  276      A  182      A  ...  141       A   95       A  146       A   \n",
       "4      A -211      A -289      A  ... -256       A -191       A -172       A   \n",
       "\n",
       "    64 call.32   62 call.33  \n",
       "0  -48       A -176       A  \n",
       "1 -531       A -284       A  \n",
       "2 -124       A  -81       A  \n",
       "3  431       A    9       A  \n",
       "4 -496       A -294       A  \n",
       "\n",
       "[5 rows x 70 columns]"
      ]
     },
     "execution_count": 5,
     "metadata": {},
     "output_type": "execute_result"
    }
   ],
   "source": [
    "test_x = pd.read_csv(\"independent.csv\")\n",
    "print(type(test_x))\n",
    "test_x.head()"
   ]
  },
  {
   "cell_type": "markdown",
   "metadata": {
    "colab_type": "text",
    "id": "rEsYV9imapZi"
   },
   "source": [
    "1.Remove columns that contain \"Call\" data\n",
    "2.Transpose the dataframe so that each row is a patient and each column is a gene\n",
    "3.Remove gene description header and set the gene accession numbers as the column headers\n",
    "4.Split into train/test sets\n",
    "5.Scale values to zero mean and unit variance\n",
    "6.PCA for dimensionality reduction and using various ml models : KNN,svm or kernel svm,decision tree,random forest\n",
    "7.ANN --- deep learning technique"
   ]
  },
  {
   "cell_type": "markdown",
   "metadata": {
    "colab_type": "text",
    "id": "AkQ5D3e2bi3w"
   },
   "source": [
    "# ***analyzing and visualising the data set***"
   ]
  },
  {
   "cell_type": "code",
   "execution_count": 6,
   "metadata": {
    "colab": {
     "base_uri": "https://localhost:8080/",
     "height": 87
    },
    "colab_type": "code",
    "id": "zK9nW6v1bztM",
    "outputId": "ef456c10-5e6b-44f9-c979-729c351efa88"
   },
   "outputs": [
    {
     "name": "stdout",
     "output_type": "stream",
     "text": [
      "the train set (dependent)size is (7129, 78)\n",
      "the train set (independent)size is (72, 2)\n",
      "the test set size is (7129, 70)\n",
      "row indicates genes and columns indicate patients and we have to process the data logically before proceeding\n"
     ]
    }
   ],
   "source": [
    "print(\"the train set (dependent)size is\",train_x.shape)\n",
    "print(\"the train set (independent)size is\",trainset.shape)\n",
    "print(\"the test set size is\",test_x.shape)\n",
    "print(\"row indicates genes and columns indicate patients and we have to process the data logically before proceeding\")"
   ]
  },
  {
   "cell_type": "code",
   "execution_count": 7,
   "metadata": {
    "colab": {
     "base_uri": "https://localhost:8080/",
     "height": 208
    },
    "colab_type": "code",
    "id": "hTF7bfZYf2Rc",
    "outputId": "c092ba6a-3ac0-4fed-9698-5d91fa3dbf3a"
   },
   "outputs": [
    {
     "data": {
      "text/plain": [
       "Index(['Gene Description', 'Gene Accession Number', '1', 'call', '2', 'call.1',\n",
       "       '3', 'call.2', '4', 'call.3', '5', 'call.4', '6', 'call.5', '7',\n",
       "       'call.6', '8', 'call.7', '9', 'call.8', '10', 'call.9', '11', 'call.10',\n",
       "       '12', 'call.11', '13', 'call.12', '14', 'call.13', '15', 'call.14',\n",
       "       '16', 'call.15', '17', 'call.16', '18', 'call.17', '19', 'call.18',\n",
       "       '20', 'call.19', '21', 'call.20', '22', 'call.21', '23', 'call.22',\n",
       "       '24', 'call.23', '25', 'call.24', '26', 'call.25', '27', 'call.26',\n",
       "       '34', 'call.27', '35', 'call.28', '36', 'call.29', '37', 'call.30',\n",
       "       '38', 'call.31', '28', 'call.32', '29', 'call.33', '30', 'call.34',\n",
       "       '31', 'call.35', '32', 'call.36', '33', 'call.37'],\n",
       "      dtype='object')"
      ]
     },
     "execution_count": 7,
     "metadata": {},
     "output_type": "execute_result"
    }
   ],
   "source": [
    "train_x.columns"
   ]
  },
  {
   "cell_type": "code",
   "execution_count": 8,
   "metadata": {
    "colab": {
     "base_uri": "https://localhost:8080/",
     "height": 225
    },
    "colab_type": "code",
    "id": "s5iQW_LrJMqS",
    "outputId": "3b92e614-2248-4618-93ee-e1223bcc5cdc"
   },
   "outputs": [
    {
     "data": {
      "text/plain": [
       "Gene Description         0\n",
       "Gene Accession Number    0\n",
       "1                        0\n",
       "call                     0\n",
       "2                        0\n",
       "                        ..\n",
       "call.35                  0\n",
       "32                       0\n",
       "call.36                  0\n",
       "33                       0\n",
       "call.37                  0\n",
       "Length: 78, dtype: int64"
      ]
     },
     "execution_count": 8,
     "metadata": {},
     "output_type": "execute_result"
    }
   ],
   "source": [
    "train_x.isnull().sum()   #finding missing value"
   ]
  },
  {
   "cell_type": "code",
   "execution_count": 9,
   "metadata": {
    "colab": {
     "base_uri": "https://localhost:8080/",
     "height": 711
    },
    "colab_type": "code",
    "id": "gwHo0kA9h5IP",
    "outputId": "e5cc9139-d423-44fe-b3b4-e66d519fb22d"
   },
   "outputs": [
    {
     "data": {
      "text/plain": [
       "['Gene Description',\n",
       " 'Gene Accession Number',\n",
       " '1',\n",
       " '2',\n",
       " '3',\n",
       " '4',\n",
       " '5',\n",
       " '6',\n",
       " '7',\n",
       " '8',\n",
       " '9',\n",
       " '10',\n",
       " '11',\n",
       " '12',\n",
       " '13',\n",
       " '14',\n",
       " '15',\n",
       " '16',\n",
       " '17',\n",
       " '18',\n",
       " '19',\n",
       " '20',\n",
       " '21',\n",
       " '22',\n",
       " '23',\n",
       " '24',\n",
       " '25',\n",
       " '26',\n",
       " '27',\n",
       " '34',\n",
       " '35',\n",
       " '36',\n",
       " '37',\n",
       " '38',\n",
       " '28',\n",
       " '29',\n",
       " '30',\n",
       " '31',\n",
       " '32',\n",
       " '33']"
      ]
     },
     "execution_count": 9,
     "metadata": {},
     "output_type": "execute_result"
    }
   ],
   "source": [
    "#call column can be omitted ---P,A,M\n",
    "new_col = [col for col in train_x.columns if \"call\" not in col]\n",
    "new_col"
   ]
  },
  {
   "cell_type": "code",
   "execution_count": 10,
   "metadata": {
    "colab": {
     "base_uri": "https://localhost:8080/",
     "height": 534
    },
    "colab_type": "code",
    "id": "ElsgM2Fpi1Fu",
    "outputId": "66c44145-46b7-48af-e037-89a25e4417d6"
   },
   "outputs": [
    {
     "name": "stdout",
     "output_type": "stream",
     "text": [
      "<class 'pandas.core.frame.DataFrame'>\n"
     ]
    },
    {
     "data": {
      "text/html": [
       "<div>\n",
       "<style scoped>\n",
       "    .dataframe tbody tr th:only-of-type {\n",
       "        vertical-align: middle;\n",
       "    }\n",
       "\n",
       "    .dataframe tbody tr th {\n",
       "        vertical-align: top;\n",
       "    }\n",
       "\n",
       "    .dataframe thead th {\n",
       "        text-align: right;\n",
       "    }\n",
       "</style>\n",
       "<table border=\"1\" class=\"dataframe\">\n",
       "  <thead>\n",
       "    <tr style=\"text-align: right;\">\n",
       "      <th></th>\n",
       "      <th>Gene Description</th>\n",
       "      <th>Gene Accession Number</th>\n",
       "      <th>1</th>\n",
       "      <th>2</th>\n",
       "      <th>3</th>\n",
       "      <th>4</th>\n",
       "      <th>5</th>\n",
       "      <th>6</th>\n",
       "      <th>7</th>\n",
       "      <th>8</th>\n",
       "      <th>...</th>\n",
       "      <th>35</th>\n",
       "      <th>36</th>\n",
       "      <th>37</th>\n",
       "      <th>38</th>\n",
       "      <th>28</th>\n",
       "      <th>29</th>\n",
       "      <th>30</th>\n",
       "      <th>31</th>\n",
       "      <th>32</th>\n",
       "      <th>33</th>\n",
       "    </tr>\n",
       "  </thead>\n",
       "  <tbody>\n",
       "    <tr>\n",
       "      <th>0</th>\n",
       "      <td>AFFX-BioB-5_at (endogenous control)</td>\n",
       "      <td>AFFX-BioB-5_at</td>\n",
       "      <td>-214</td>\n",
       "      <td>-139</td>\n",
       "      <td>-76</td>\n",
       "      <td>-135</td>\n",
       "      <td>-106</td>\n",
       "      <td>-138</td>\n",
       "      <td>-72</td>\n",
       "      <td>-413</td>\n",
       "      <td>...</td>\n",
       "      <td>7</td>\n",
       "      <td>-213</td>\n",
       "      <td>-25</td>\n",
       "      <td>-72</td>\n",
       "      <td>-4</td>\n",
       "      <td>15</td>\n",
       "      <td>-318</td>\n",
       "      <td>-32</td>\n",
       "      <td>-124</td>\n",
       "      <td>-135</td>\n",
       "    </tr>\n",
       "    <tr>\n",
       "      <th>1</th>\n",
       "      <td>AFFX-BioB-M_at (endogenous control)</td>\n",
       "      <td>AFFX-BioB-M_at</td>\n",
       "      <td>-153</td>\n",
       "      <td>-73</td>\n",
       "      <td>-49</td>\n",
       "      <td>-114</td>\n",
       "      <td>-125</td>\n",
       "      <td>-85</td>\n",
       "      <td>-144</td>\n",
       "      <td>-260</td>\n",
       "      <td>...</td>\n",
       "      <td>-100</td>\n",
       "      <td>-252</td>\n",
       "      <td>-20</td>\n",
       "      <td>-139</td>\n",
       "      <td>-116</td>\n",
       "      <td>-114</td>\n",
       "      <td>-192</td>\n",
       "      <td>-49</td>\n",
       "      <td>-79</td>\n",
       "      <td>-186</td>\n",
       "    </tr>\n",
       "    <tr>\n",
       "      <th>2</th>\n",
       "      <td>AFFX-BioB-3_at (endogenous control)</td>\n",
       "      <td>AFFX-BioB-3_at</td>\n",
       "      <td>-58</td>\n",
       "      <td>-1</td>\n",
       "      <td>-307</td>\n",
       "      <td>265</td>\n",
       "      <td>-76</td>\n",
       "      <td>215</td>\n",
       "      <td>238</td>\n",
       "      <td>7</td>\n",
       "      <td>...</td>\n",
       "      <td>-57</td>\n",
       "      <td>136</td>\n",
       "      <td>124</td>\n",
       "      <td>-1</td>\n",
       "      <td>-125</td>\n",
       "      <td>2</td>\n",
       "      <td>-95</td>\n",
       "      <td>49</td>\n",
       "      <td>-37</td>\n",
       "      <td>-70</td>\n",
       "    </tr>\n",
       "    <tr>\n",
       "      <th>3</th>\n",
       "      <td>AFFX-BioC-5_at (endogenous control)</td>\n",
       "      <td>AFFX-BioC-5_at</td>\n",
       "      <td>88</td>\n",
       "      <td>283</td>\n",
       "      <td>309</td>\n",
       "      <td>12</td>\n",
       "      <td>168</td>\n",
       "      <td>71</td>\n",
       "      <td>55</td>\n",
       "      <td>-2</td>\n",
       "      <td>...</td>\n",
       "      <td>132</td>\n",
       "      <td>318</td>\n",
       "      <td>325</td>\n",
       "      <td>392</td>\n",
       "      <td>241</td>\n",
       "      <td>193</td>\n",
       "      <td>312</td>\n",
       "      <td>230</td>\n",
       "      <td>330</td>\n",
       "      <td>337</td>\n",
       "    </tr>\n",
       "    <tr>\n",
       "      <th>4</th>\n",
       "      <td>AFFX-BioC-3_at (endogenous control)</td>\n",
       "      <td>AFFX-BioC-3_at</td>\n",
       "      <td>-295</td>\n",
       "      <td>-264</td>\n",
       "      <td>-376</td>\n",
       "      <td>-419</td>\n",
       "      <td>-230</td>\n",
       "      <td>-272</td>\n",
       "      <td>-399</td>\n",
       "      <td>-541</td>\n",
       "      <td>...</td>\n",
       "      <td>-377</td>\n",
       "      <td>-209</td>\n",
       "      <td>-396</td>\n",
       "      <td>-324</td>\n",
       "      <td>-191</td>\n",
       "      <td>-51</td>\n",
       "      <td>-139</td>\n",
       "      <td>-367</td>\n",
       "      <td>-188</td>\n",
       "      <td>-407</td>\n",
       "    </tr>\n",
       "  </tbody>\n",
       "</table>\n",
       "<p>5 rows × 40 columns</p>\n",
       "</div>"
      ],
      "text/plain": [
       "                      Gene Description Gene Accession Number    1    2    3  \\\n",
       "0  AFFX-BioB-5_at (endogenous control)        AFFX-BioB-5_at -214 -139  -76   \n",
       "1  AFFX-BioB-M_at (endogenous control)        AFFX-BioB-M_at -153  -73  -49   \n",
       "2  AFFX-BioB-3_at (endogenous control)        AFFX-BioB-3_at  -58   -1 -307   \n",
       "3  AFFX-BioC-5_at (endogenous control)        AFFX-BioC-5_at   88  283  309   \n",
       "4  AFFX-BioC-3_at (endogenous control)        AFFX-BioC-3_at -295 -264 -376   \n",
       "\n",
       "     4    5    6    7    8  ...   35   36   37   38   28   29   30   31   32  \\\n",
       "0 -135 -106 -138  -72 -413  ...    7 -213  -25  -72   -4   15 -318  -32 -124   \n",
       "1 -114 -125  -85 -144 -260  ... -100 -252  -20 -139 -116 -114 -192  -49  -79   \n",
       "2  265  -76  215  238    7  ...  -57  136  124   -1 -125    2  -95   49  -37   \n",
       "3   12  168   71   55   -2  ...  132  318  325  392  241  193  312  230  330   \n",
       "4 -419 -230 -272 -399 -541  ... -377 -209 -396 -324 -191  -51 -139 -367 -188   \n",
       "\n",
       "    33  \n",
       "0 -135  \n",
       "1 -186  \n",
       "2  -70  \n",
       "3  337  \n",
       "4 -407  \n",
       "\n",
       "[5 rows x 40 columns]"
      ]
     },
     "execution_count": 10,
     "metadata": {},
     "output_type": "execute_result"
    }
   ],
   "source": [
    "x = train_x[new_col]\n",
    "print(type(x))\n",
    "x.head()"
   ]
  },
  {
   "cell_type": "code",
   "execution_count": 11,
   "metadata": {
    "colab": {
     "base_uri": "https://localhost:8080/",
     "height": 373
    },
    "colab_type": "code",
    "id": "3nwmnwHNk_o0",
    "outputId": "6896fdaf-fde7-455d-b2a9-52b49cd1e16f"
   },
   "outputs": [
    {
     "data": {
      "text/html": [
       "<div>\n",
       "<style scoped>\n",
       "    .dataframe tbody tr th:only-of-type {\n",
       "        vertical-align: middle;\n",
       "    }\n",
       "\n",
       "    .dataframe tbody tr th {\n",
       "        vertical-align: top;\n",
       "    }\n",
       "\n",
       "    .dataframe thead th {\n",
       "        text-align: right;\n",
       "    }\n",
       "</style>\n",
       "<table border=\"1\" class=\"dataframe\">\n",
       "  <thead>\n",
       "    <tr style=\"text-align: right;\">\n",
       "      <th></th>\n",
       "      <th>0</th>\n",
       "      <th>1</th>\n",
       "      <th>2</th>\n",
       "      <th>3</th>\n",
       "      <th>4</th>\n",
       "      <th>5</th>\n",
       "      <th>6</th>\n",
       "      <th>7</th>\n",
       "      <th>8</th>\n",
       "      <th>9</th>\n",
       "      <th>...</th>\n",
       "      <th>7119</th>\n",
       "      <th>7120</th>\n",
       "      <th>7121</th>\n",
       "      <th>7122</th>\n",
       "      <th>7123</th>\n",
       "      <th>7124</th>\n",
       "      <th>7125</th>\n",
       "      <th>7126</th>\n",
       "      <th>7127</th>\n",
       "      <th>7128</th>\n",
       "    </tr>\n",
       "  </thead>\n",
       "  <tbody>\n",
       "    <tr>\n",
       "      <th>Gene Description</th>\n",
       "      <td>AFFX-BioB-5_at (endogenous control)</td>\n",
       "      <td>AFFX-BioB-M_at (endogenous control)</td>\n",
       "      <td>AFFX-BioB-3_at (endogenous control)</td>\n",
       "      <td>AFFX-BioC-5_at (endogenous control)</td>\n",
       "      <td>AFFX-BioC-3_at (endogenous control)</td>\n",
       "      <td>AFFX-BioDn-5_at (endogenous control)</td>\n",
       "      <td>AFFX-BioDn-3_at (endogenous control)</td>\n",
       "      <td>AFFX-CreX-5_at (endogenous control)</td>\n",
       "      <td>AFFX-CreX-3_at (endogenous control)</td>\n",
       "      <td>AFFX-BioB-5_st (endogenous control)</td>\n",
       "      <td>...</td>\n",
       "      <td>Transcription factor Stat5b (stat5b) mRNA</td>\n",
       "      <td>Breast epithelial antigen BA46 mRNA</td>\n",
       "      <td>GB DEF = Calcium/calmodulin-dependent protein ...</td>\n",
       "      <td>TUBULIN ALPHA-4 CHAIN</td>\n",
       "      <td>CYP4B1 Cytochrome P450; subfamily IVB; polypep...</td>\n",
       "      <td>PTGER3 Prostaglandin E receptor 3 (subtype EP3...</td>\n",
       "      <td>HMG2 High-mobility group (nonhistone chromosom...</td>\n",
       "      <td>RB1 Retinoblastoma 1 (including osteosarcoma)</td>\n",
       "      <td>GB DEF = Glycophorin Sta (type A) exons 3 and ...</td>\n",
       "      <td>GB DEF = mRNA (clone 1A7)</td>\n",
       "    </tr>\n",
       "    <tr>\n",
       "      <th>Gene Accession Number</th>\n",
       "      <td>AFFX-BioB-5_at</td>\n",
       "      <td>AFFX-BioB-M_at</td>\n",
       "      <td>AFFX-BioB-3_at</td>\n",
       "      <td>AFFX-BioC-5_at</td>\n",
       "      <td>AFFX-BioC-3_at</td>\n",
       "      <td>AFFX-BioDn-5_at</td>\n",
       "      <td>AFFX-BioDn-3_at</td>\n",
       "      <td>AFFX-CreX-5_at</td>\n",
       "      <td>AFFX-CreX-3_at</td>\n",
       "      <td>AFFX-BioB-5_st</td>\n",
       "      <td>...</td>\n",
       "      <td>U48730_at</td>\n",
       "      <td>U58516_at</td>\n",
       "      <td>U73738_at</td>\n",
       "      <td>X06956_at</td>\n",
       "      <td>X16699_at</td>\n",
       "      <td>X83863_at</td>\n",
       "      <td>Z17240_at</td>\n",
       "      <td>L49218_f_at</td>\n",
       "      <td>M71243_f_at</td>\n",
       "      <td>Z78285_f_at</td>\n",
       "    </tr>\n",
       "    <tr>\n",
       "      <th>1</th>\n",
       "      <td>-214</td>\n",
       "      <td>-153</td>\n",
       "      <td>-58</td>\n",
       "      <td>88</td>\n",
       "      <td>-295</td>\n",
       "      <td>-558</td>\n",
       "      <td>199</td>\n",
       "      <td>-176</td>\n",
       "      <td>252</td>\n",
       "      <td>206</td>\n",
       "      <td>...</td>\n",
       "      <td>185</td>\n",
       "      <td>511</td>\n",
       "      <td>-125</td>\n",
       "      <td>389</td>\n",
       "      <td>-37</td>\n",
       "      <td>793</td>\n",
       "      <td>329</td>\n",
       "      <td>36</td>\n",
       "      <td>191</td>\n",
       "      <td>-37</td>\n",
       "    </tr>\n",
       "    <tr>\n",
       "      <th>2</th>\n",
       "      <td>-139</td>\n",
       "      <td>-73</td>\n",
       "      <td>-1</td>\n",
       "      <td>283</td>\n",
       "      <td>-264</td>\n",
       "      <td>-400</td>\n",
       "      <td>-330</td>\n",
       "      <td>-168</td>\n",
       "      <td>101</td>\n",
       "      <td>74</td>\n",
       "      <td>...</td>\n",
       "      <td>169</td>\n",
       "      <td>837</td>\n",
       "      <td>-36</td>\n",
       "      <td>442</td>\n",
       "      <td>-17</td>\n",
       "      <td>782</td>\n",
       "      <td>295</td>\n",
       "      <td>11</td>\n",
       "      <td>76</td>\n",
       "      <td>-14</td>\n",
       "    </tr>\n",
       "    <tr>\n",
       "      <th>3</th>\n",
       "      <td>-76</td>\n",
       "      <td>-49</td>\n",
       "      <td>-307</td>\n",
       "      <td>309</td>\n",
       "      <td>-376</td>\n",
       "      <td>-650</td>\n",
       "      <td>33</td>\n",
       "      <td>-367</td>\n",
       "      <td>206</td>\n",
       "      <td>-215</td>\n",
       "      <td>...</td>\n",
       "      <td>315</td>\n",
       "      <td>1199</td>\n",
       "      <td>33</td>\n",
       "      <td>168</td>\n",
       "      <td>52</td>\n",
       "      <td>1138</td>\n",
       "      <td>777</td>\n",
       "      <td>41</td>\n",
       "      <td>228</td>\n",
       "      <td>-41</td>\n",
       "    </tr>\n",
       "  </tbody>\n",
       "</table>\n",
       "<p>5 rows × 7129 columns</p>\n",
       "</div>"
      ],
      "text/plain": [
       "                                                      0     \\\n",
       "Gene Description       AFFX-BioB-5_at (endogenous control)   \n",
       "Gene Accession Number                       AFFX-BioB-5_at   \n",
       "1                                                     -214   \n",
       "2                                                     -139   \n",
       "3                                                      -76   \n",
       "\n",
       "                                                      1     \\\n",
       "Gene Description       AFFX-BioB-M_at (endogenous control)   \n",
       "Gene Accession Number                       AFFX-BioB-M_at   \n",
       "1                                                     -153   \n",
       "2                                                      -73   \n",
       "3                                                      -49   \n",
       "\n",
       "                                                      2     \\\n",
       "Gene Description       AFFX-BioB-3_at (endogenous control)   \n",
       "Gene Accession Number                       AFFX-BioB-3_at   \n",
       "1                                                      -58   \n",
       "2                                                       -1   \n",
       "3                                                     -307   \n",
       "\n",
       "                                                      3     \\\n",
       "Gene Description       AFFX-BioC-5_at (endogenous control)   \n",
       "Gene Accession Number                       AFFX-BioC-5_at   \n",
       "1                                                       88   \n",
       "2                                                      283   \n",
       "3                                                      309   \n",
       "\n",
       "                                                      4     \\\n",
       "Gene Description       AFFX-BioC-3_at (endogenous control)   \n",
       "Gene Accession Number                       AFFX-BioC-3_at   \n",
       "1                                                     -295   \n",
       "2                                                     -264   \n",
       "3                                                     -376   \n",
       "\n",
       "                                                       5     \\\n",
       "Gene Description       AFFX-BioDn-5_at (endogenous control)   \n",
       "Gene Accession Number                       AFFX-BioDn-5_at   \n",
       "1                                                      -558   \n",
       "2                                                      -400   \n",
       "3                                                      -650   \n",
       "\n",
       "                                                       6     \\\n",
       "Gene Description       AFFX-BioDn-3_at (endogenous control)   \n",
       "Gene Accession Number                       AFFX-BioDn-3_at   \n",
       "1                                                       199   \n",
       "2                                                      -330   \n",
       "3                                                        33   \n",
       "\n",
       "                                                      7     \\\n",
       "Gene Description       AFFX-CreX-5_at (endogenous control)   \n",
       "Gene Accession Number                       AFFX-CreX-5_at   \n",
       "1                                                     -176   \n",
       "2                                                     -168   \n",
       "3                                                     -367   \n",
       "\n",
       "                                                      8     \\\n",
       "Gene Description       AFFX-CreX-3_at (endogenous control)   \n",
       "Gene Accession Number                       AFFX-CreX-3_at   \n",
       "1                                                      252   \n",
       "2                                                      101   \n",
       "3                                                      206   \n",
       "\n",
       "                                                      9     ...  \\\n",
       "Gene Description       AFFX-BioB-5_st (endogenous control)  ...   \n",
       "Gene Accession Number                       AFFX-BioB-5_st  ...   \n",
       "1                                                      206  ...   \n",
       "2                                                       74  ...   \n",
       "3                                                     -215  ...   \n",
       "\n",
       "                                                            7119  \\\n",
       "Gene Description       Transcription factor Stat5b (stat5b) mRNA   \n",
       "Gene Accession Number                                  U48730_at   \n",
       "1                                                            185   \n",
       "2                                                            169   \n",
       "3                                                            315   \n",
       "\n",
       "                                                      7120  \\\n",
       "Gene Description       Breast epithelial antigen BA46 mRNA   \n",
       "Gene Accession Number                            U58516_at   \n",
       "1                                                      511   \n",
       "2                                                      837   \n",
       "3                                                     1199   \n",
       "\n",
       "                                                                    7121  \\\n",
       "Gene Description       GB DEF = Calcium/calmodulin-dependent protein ...   \n",
       "Gene Accession Number                                          U73738_at   \n",
       "1                                                                   -125   \n",
       "2                                                                    -36   \n",
       "3                                                                     33   \n",
       "\n",
       "                                        7122  \\\n",
       "Gene Description       TUBULIN ALPHA-4 CHAIN   \n",
       "Gene Accession Number              X06956_at   \n",
       "1                                        389   \n",
       "2                                        442   \n",
       "3                                        168   \n",
       "\n",
       "                                                                    7123  \\\n",
       "Gene Description       CYP4B1 Cytochrome P450; subfamily IVB; polypep...   \n",
       "Gene Accession Number                                          X16699_at   \n",
       "1                                                                    -37   \n",
       "2                                                                    -17   \n",
       "3                                                                     52   \n",
       "\n",
       "                                                                    7124  \\\n",
       "Gene Description       PTGER3 Prostaglandin E receptor 3 (subtype EP3...   \n",
       "Gene Accession Number                                          X83863_at   \n",
       "1                                                                    793   \n",
       "2                                                                    782   \n",
       "3                                                                   1138   \n",
       "\n",
       "                                                                    7125  \\\n",
       "Gene Description       HMG2 High-mobility group (nonhistone chromosom...   \n",
       "Gene Accession Number                                          Z17240_at   \n",
       "1                                                                    329   \n",
       "2                                                                    295   \n",
       "3                                                                    777   \n",
       "\n",
       "                                                                7126  \\\n",
       "Gene Description       RB1 Retinoblastoma 1 (including osteosarcoma)   \n",
       "Gene Accession Number                                    L49218_f_at   \n",
       "1                                                                 36   \n",
       "2                                                                 11   \n",
       "3                                                                 41   \n",
       "\n",
       "                                                                    7127  \\\n",
       "Gene Description       GB DEF = Glycophorin Sta (type A) exons 3 and ...   \n",
       "Gene Accession Number                                        M71243_f_at   \n",
       "1                                                                    191   \n",
       "2                                                                     76   \n",
       "3                                                                    228   \n",
       "\n",
       "                                            7128  \n",
       "Gene Description       GB DEF = mRNA (clone 1A7)  \n",
       "Gene Accession Number                Z78285_f_at  \n",
       "1                                            -37  \n",
       "2                                            -14  \n",
       "3                                            -41  \n",
       "\n",
       "[5 rows x 7129 columns]"
      ]
     },
     "execution_count": 11,
     "metadata": {},
     "output_type": "execute_result"
    }
   ],
   "source": [
    "x = x.transpose()\n",
    "x.head()"
   ]
  },
  {
   "cell_type": "code",
   "execution_count": 12,
   "metadata": {
    "colab": {
     "base_uri": "https://localhost:8080/",
     "height": 35
    },
    "colab_type": "code",
    "id": "l7xTTHxpliMS",
    "outputId": "30da6baa-5c71-40d7-e416-0530c3d86e4a"
   },
   "outputs": [
    {
     "data": {
      "text/plain": [
       "RangeIndex(start=0, stop=7129, step=1)"
      ]
     },
     "execution_count": 12,
     "metadata": {},
     "output_type": "execute_result"
    }
   ],
   "source": [
    "x.columns"
   ]
  },
  {
   "cell_type": "code",
   "execution_count": 13,
   "metadata": {
    "colab": {
     "base_uri": "https://localhost:8080/",
     "height": 35
    },
    "colab_type": "code",
    "id": "UFl2IcUcnlyO",
    "outputId": "1b40e4ab-1ece-4997-b10f-5525f4cce0e3"
   },
   "outputs": [
    {
     "data": {
      "text/plain": [
       "7129"
      ]
     },
     "execution_count": 13,
     "metadata": {},
     "output_type": "execute_result"
    }
   ],
   "source": [
    "x.columns.size"
   ]
  },
  {
   "cell_type": "code",
   "execution_count": 14,
   "metadata": {
    "colab": {
     "base_uri": "https://localhost:8080/",
     "height": 251
    },
    "colab_type": "code",
    "id": "a4JwMUBXmPH2",
    "outputId": "78904ee9-0d31-48b5-de4b-5c47df9b20b7"
   },
   "outputs": [
    {
     "data": {
      "text/html": [
       "<div>\n",
       "<style scoped>\n",
       "    .dataframe tbody tr th:only-of-type {\n",
       "        vertical-align: middle;\n",
       "    }\n",
       "\n",
       "    .dataframe tbody tr th {\n",
       "        vertical-align: top;\n",
       "    }\n",
       "\n",
       "    .dataframe thead th {\n",
       "        text-align: right;\n",
       "    }\n",
       "</style>\n",
       "<table border=\"1\" class=\"dataframe\">\n",
       "  <thead>\n",
       "    <tr style=\"text-align: right;\">\n",
       "      <th></th>\n",
       "      <th>0</th>\n",
       "      <th>1</th>\n",
       "      <th>2</th>\n",
       "      <th>3</th>\n",
       "      <th>4</th>\n",
       "      <th>5</th>\n",
       "      <th>6</th>\n",
       "      <th>7</th>\n",
       "      <th>8</th>\n",
       "      <th>9</th>\n",
       "      <th>...</th>\n",
       "      <th>7119</th>\n",
       "      <th>7120</th>\n",
       "      <th>7121</th>\n",
       "      <th>7122</th>\n",
       "      <th>7123</th>\n",
       "      <th>7124</th>\n",
       "      <th>7125</th>\n",
       "      <th>7126</th>\n",
       "      <th>7127</th>\n",
       "      <th>7128</th>\n",
       "    </tr>\n",
       "  </thead>\n",
       "  <tbody>\n",
       "    <tr>\n",
       "      <th>1</th>\n",
       "      <td>-214</td>\n",
       "      <td>-153</td>\n",
       "      <td>-58</td>\n",
       "      <td>88</td>\n",
       "      <td>-295</td>\n",
       "      <td>-558</td>\n",
       "      <td>199</td>\n",
       "      <td>-176</td>\n",
       "      <td>252</td>\n",
       "      <td>206</td>\n",
       "      <td>...</td>\n",
       "      <td>185</td>\n",
       "      <td>511</td>\n",
       "      <td>-125</td>\n",
       "      <td>389</td>\n",
       "      <td>-37</td>\n",
       "      <td>793</td>\n",
       "      <td>329</td>\n",
       "      <td>36</td>\n",
       "      <td>191</td>\n",
       "      <td>-37</td>\n",
       "    </tr>\n",
       "    <tr>\n",
       "      <th>2</th>\n",
       "      <td>-139</td>\n",
       "      <td>-73</td>\n",
       "      <td>-1</td>\n",
       "      <td>283</td>\n",
       "      <td>-264</td>\n",
       "      <td>-400</td>\n",
       "      <td>-330</td>\n",
       "      <td>-168</td>\n",
       "      <td>101</td>\n",
       "      <td>74</td>\n",
       "      <td>...</td>\n",
       "      <td>169</td>\n",
       "      <td>837</td>\n",
       "      <td>-36</td>\n",
       "      <td>442</td>\n",
       "      <td>-17</td>\n",
       "      <td>782</td>\n",
       "      <td>295</td>\n",
       "      <td>11</td>\n",
       "      <td>76</td>\n",
       "      <td>-14</td>\n",
       "    </tr>\n",
       "    <tr>\n",
       "      <th>3</th>\n",
       "      <td>-76</td>\n",
       "      <td>-49</td>\n",
       "      <td>-307</td>\n",
       "      <td>309</td>\n",
       "      <td>-376</td>\n",
       "      <td>-650</td>\n",
       "      <td>33</td>\n",
       "      <td>-367</td>\n",
       "      <td>206</td>\n",
       "      <td>-215</td>\n",
       "      <td>...</td>\n",
       "      <td>315</td>\n",
       "      <td>1199</td>\n",
       "      <td>33</td>\n",
       "      <td>168</td>\n",
       "      <td>52</td>\n",
       "      <td>1138</td>\n",
       "      <td>777</td>\n",
       "      <td>41</td>\n",
       "      <td>228</td>\n",
       "      <td>-41</td>\n",
       "    </tr>\n",
       "    <tr>\n",
       "      <th>4</th>\n",
       "      <td>-135</td>\n",
       "      <td>-114</td>\n",
       "      <td>265</td>\n",
       "      <td>12</td>\n",
       "      <td>-419</td>\n",
       "      <td>-585</td>\n",
       "      <td>158</td>\n",
       "      <td>-253</td>\n",
       "      <td>49</td>\n",
       "      <td>31</td>\n",
       "      <td>...</td>\n",
       "      <td>240</td>\n",
       "      <td>835</td>\n",
       "      <td>218</td>\n",
       "      <td>174</td>\n",
       "      <td>-110</td>\n",
       "      <td>627</td>\n",
       "      <td>170</td>\n",
       "      <td>-50</td>\n",
       "      <td>126</td>\n",
       "      <td>-91</td>\n",
       "    </tr>\n",
       "    <tr>\n",
       "      <th>5</th>\n",
       "      <td>-106</td>\n",
       "      <td>-125</td>\n",
       "      <td>-76</td>\n",
       "      <td>168</td>\n",
       "      <td>-230</td>\n",
       "      <td>-284</td>\n",
       "      <td>4</td>\n",
       "      <td>-122</td>\n",
       "      <td>70</td>\n",
       "      <td>252</td>\n",
       "      <td>...</td>\n",
       "      <td>156</td>\n",
       "      <td>649</td>\n",
       "      <td>57</td>\n",
       "      <td>504</td>\n",
       "      <td>-26</td>\n",
       "      <td>250</td>\n",
       "      <td>314</td>\n",
       "      <td>14</td>\n",
       "      <td>56</td>\n",
       "      <td>-25</td>\n",
       "    </tr>\n",
       "  </tbody>\n",
       "</table>\n",
       "<p>5 rows × 7129 columns</p>\n",
       "</div>"
      ],
      "text/plain": [
       "   0     1     2    3     4     5     6     7    8     9     ... 7119  7120  \\\n",
       "1  -214  -153   -58   88  -295  -558   199  -176  252   206  ...  185   511   \n",
       "2  -139   -73    -1  283  -264  -400  -330  -168  101    74  ...  169   837   \n",
       "3   -76   -49  -307  309  -376  -650    33  -367  206  -215  ...  315  1199   \n",
       "4  -135  -114   265   12  -419  -585   158  -253   49    31  ...  240   835   \n",
       "5  -106  -125   -76  168  -230  -284     4  -122   70   252  ...  156   649   \n",
       "\n",
       "   7121 7122  7123  7124 7125 7126 7127 7128  \n",
       "1  -125  389   -37   793  329   36  191  -37  \n",
       "2   -36  442   -17   782  295   11   76  -14  \n",
       "3    33  168    52  1138  777   41  228  -41  \n",
       "4   218  174  -110   627  170  -50  126  -91  \n",
       "5    57  504   -26   250  314   14   56  -25  \n",
       "\n",
       "[5 rows x 7129 columns]"
      ]
     },
     "execution_count": 14,
     "metadata": {},
     "output_type": "execute_result"
    }
   ],
   "source": [
    "x.drop(['Gene Description','Gene Accession Number'],axis = 0,inplace=True)\n",
    "x.head()\n"
   ]
  },
  {
   "cell_type": "code",
   "execution_count": 15,
   "metadata": {
    "colab": {
     "base_uri": "https://localhost:8080/",
     "height": 1000
    },
    "colab_type": "code",
    "id": "qZUJaXhWnCxB",
    "outputId": "45ccb087-b8c8-4e5b-cd93-b1220e776552"
   },
   "outputs": [
    {
     "data": {
      "text/plain": [
       "['gene 1',\n",
       " 'gene 2',\n",
       " 'gene 3',\n",
       " 'gene 4',\n",
       " 'gene 5',\n",
       " 'gene 6',\n",
       " 'gene 7',\n",
       " 'gene 8',\n",
       " 'gene 9',\n",
       " 'gene 10',\n",
       " 'gene 11',\n",
       " 'gene 12',\n",
       " 'gene 13',\n",
       " 'gene 14',\n",
       " 'gene 15',\n",
       " 'gene 16',\n",
       " 'gene 17',\n",
       " 'gene 18',\n",
       " 'gene 19',\n",
       " 'gene 20',\n",
       " 'gene 21',\n",
       " 'gene 22',\n",
       " 'gene 23',\n",
       " 'gene 24',\n",
       " 'gene 25',\n",
       " 'gene 26',\n",
       " 'gene 27',\n",
       " 'gene 28',\n",
       " 'gene 29',\n",
       " 'gene 30',\n",
       " 'gene 31',\n",
       " 'gene 32',\n",
       " 'gene 33',\n",
       " 'gene 34',\n",
       " 'gene 35',\n",
       " 'gene 36',\n",
       " 'gene 37',\n",
       " 'gene 38',\n",
       " 'gene 39',\n",
       " 'gene 40',\n",
       " 'gene 41',\n",
       " 'gene 42',\n",
       " 'gene 43',\n",
       " 'gene 44',\n",
       " 'gene 45',\n",
       " 'gene 46',\n",
       " 'gene 47',\n",
       " 'gene 48',\n",
       " 'gene 49',\n",
       " 'gene 50',\n",
       " 'gene 51',\n",
       " 'gene 52',\n",
       " 'gene 53',\n",
       " 'gene 54',\n",
       " 'gene 55',\n",
       " 'gene 56',\n",
       " 'gene 57',\n",
       " 'gene 58',\n",
       " 'gene 59',\n",
       " 'gene 60',\n",
       " 'gene 61',\n",
       " 'gene 62',\n",
       " 'gene 63',\n",
       " 'gene 64',\n",
       " 'gene 65',\n",
       " 'gene 66',\n",
       " 'gene 67',\n",
       " 'gene 68',\n",
       " 'gene 69',\n",
       " 'gene 70',\n",
       " 'gene 71',\n",
       " 'gene 72',\n",
       " 'gene 73',\n",
       " 'gene 74',\n",
       " 'gene 75',\n",
       " 'gene 76',\n",
       " 'gene 77',\n",
       " 'gene 78',\n",
       " 'gene 79',\n",
       " 'gene 80',\n",
       " 'gene 81',\n",
       " 'gene 82',\n",
       " 'gene 83',\n",
       " 'gene 84',\n",
       " 'gene 85',\n",
       " 'gene 86',\n",
       " 'gene 87',\n",
       " 'gene 88',\n",
       " 'gene 89',\n",
       " 'gene 90',\n",
       " 'gene 91',\n",
       " 'gene 92',\n",
       " 'gene 93',\n",
       " 'gene 94',\n",
       " 'gene 95',\n",
       " 'gene 96',\n",
       " 'gene 97',\n",
       " 'gene 98',\n",
       " 'gene 99',\n",
       " 'gene 100',\n",
       " 'gene 101',\n",
       " 'gene 102',\n",
       " 'gene 103',\n",
       " 'gene 104',\n",
       " 'gene 105',\n",
       " 'gene 106',\n",
       " 'gene 107',\n",
       " 'gene 108',\n",
       " 'gene 109',\n",
       " 'gene 110',\n",
       " 'gene 111',\n",
       " 'gene 112',\n",
       " 'gene 113',\n",
       " 'gene 114',\n",
       " 'gene 115',\n",
       " 'gene 116',\n",
       " 'gene 117',\n",
       " 'gene 118',\n",
       " 'gene 119',\n",
       " 'gene 120',\n",
       " 'gene 121',\n",
       " 'gene 122',\n",
       " 'gene 123',\n",
       " 'gene 124',\n",
       " 'gene 125',\n",
       " 'gene 126',\n",
       " 'gene 127',\n",
       " 'gene 128',\n",
       " 'gene 129',\n",
       " 'gene 130',\n",
       " 'gene 131',\n",
       " 'gene 132',\n",
       " 'gene 133',\n",
       " 'gene 134',\n",
       " 'gene 135',\n",
       " 'gene 136',\n",
       " 'gene 137',\n",
       " 'gene 138',\n",
       " 'gene 139',\n",
       " 'gene 140',\n",
       " 'gene 141',\n",
       " 'gene 142',\n",
       " 'gene 143',\n",
       " 'gene 144',\n",
       " 'gene 145',\n",
       " 'gene 146',\n",
       " 'gene 147',\n",
       " 'gene 148',\n",
       " 'gene 149',\n",
       " 'gene 150',\n",
       " 'gene 151',\n",
       " 'gene 152',\n",
       " 'gene 153',\n",
       " 'gene 154',\n",
       " 'gene 155',\n",
       " 'gene 156',\n",
       " 'gene 157',\n",
       " 'gene 158',\n",
       " 'gene 159',\n",
       " 'gene 160',\n",
       " 'gene 161',\n",
       " 'gene 162',\n",
       " 'gene 163',\n",
       " 'gene 164',\n",
       " 'gene 165',\n",
       " 'gene 166',\n",
       " 'gene 167',\n",
       " 'gene 168',\n",
       " 'gene 169',\n",
       " 'gene 170',\n",
       " 'gene 171',\n",
       " 'gene 172',\n",
       " 'gene 173',\n",
       " 'gene 174',\n",
       " 'gene 175',\n",
       " 'gene 176',\n",
       " 'gene 177',\n",
       " 'gene 178',\n",
       " 'gene 179',\n",
       " 'gene 180',\n",
       " 'gene 181',\n",
       " 'gene 182',\n",
       " 'gene 183',\n",
       " 'gene 184',\n",
       " 'gene 185',\n",
       " 'gene 186',\n",
       " 'gene 187',\n",
       " 'gene 188',\n",
       " 'gene 189',\n",
       " 'gene 190',\n",
       " 'gene 191',\n",
       " 'gene 192',\n",
       " 'gene 193',\n",
       " 'gene 194',\n",
       " 'gene 195',\n",
       " 'gene 196',\n",
       " 'gene 197',\n",
       " 'gene 198',\n",
       " 'gene 199',\n",
       " 'gene 200',\n",
       " 'gene 201',\n",
       " 'gene 202',\n",
       " 'gene 203',\n",
       " 'gene 204',\n",
       " 'gene 205',\n",
       " 'gene 206',\n",
       " 'gene 207',\n",
       " 'gene 208',\n",
       " 'gene 209',\n",
       " 'gene 210',\n",
       " 'gene 211',\n",
       " 'gene 212',\n",
       " 'gene 213',\n",
       " 'gene 214',\n",
       " 'gene 215',\n",
       " 'gene 216',\n",
       " 'gene 217',\n",
       " 'gene 218',\n",
       " 'gene 219',\n",
       " 'gene 220',\n",
       " 'gene 221',\n",
       " 'gene 222',\n",
       " 'gene 223',\n",
       " 'gene 224',\n",
       " 'gene 225',\n",
       " 'gene 226',\n",
       " 'gene 227',\n",
       " 'gene 228',\n",
       " 'gene 229',\n",
       " 'gene 230',\n",
       " 'gene 231',\n",
       " 'gene 232',\n",
       " 'gene 233',\n",
       " 'gene 234',\n",
       " 'gene 235',\n",
       " 'gene 236',\n",
       " 'gene 237',\n",
       " 'gene 238',\n",
       " 'gene 239',\n",
       " 'gene 240',\n",
       " 'gene 241',\n",
       " 'gene 242',\n",
       " 'gene 243',\n",
       " 'gene 244',\n",
       " 'gene 245',\n",
       " 'gene 246',\n",
       " 'gene 247',\n",
       " 'gene 248',\n",
       " 'gene 249',\n",
       " 'gene 250',\n",
       " 'gene 251',\n",
       " 'gene 252',\n",
       " 'gene 253',\n",
       " 'gene 254',\n",
       " 'gene 255',\n",
       " 'gene 256',\n",
       " 'gene 257',\n",
       " 'gene 258',\n",
       " 'gene 259',\n",
       " 'gene 260',\n",
       " 'gene 261',\n",
       " 'gene 262',\n",
       " 'gene 263',\n",
       " 'gene 264',\n",
       " 'gene 265',\n",
       " 'gene 266',\n",
       " 'gene 267',\n",
       " 'gene 268',\n",
       " 'gene 269',\n",
       " 'gene 270',\n",
       " 'gene 271',\n",
       " 'gene 272',\n",
       " 'gene 273',\n",
       " 'gene 274',\n",
       " 'gene 275',\n",
       " 'gene 276',\n",
       " 'gene 277',\n",
       " 'gene 278',\n",
       " 'gene 279',\n",
       " 'gene 280',\n",
       " 'gene 281',\n",
       " 'gene 282',\n",
       " 'gene 283',\n",
       " 'gene 284',\n",
       " 'gene 285',\n",
       " 'gene 286',\n",
       " 'gene 287',\n",
       " 'gene 288',\n",
       " 'gene 289',\n",
       " 'gene 290',\n",
       " 'gene 291',\n",
       " 'gene 292',\n",
       " 'gene 293',\n",
       " 'gene 294',\n",
       " 'gene 295',\n",
       " 'gene 296',\n",
       " 'gene 297',\n",
       " 'gene 298',\n",
       " 'gene 299',\n",
       " 'gene 300',\n",
       " 'gene 301',\n",
       " 'gene 302',\n",
       " 'gene 303',\n",
       " 'gene 304',\n",
       " 'gene 305',\n",
       " 'gene 306',\n",
       " 'gene 307',\n",
       " 'gene 308',\n",
       " 'gene 309',\n",
       " 'gene 310',\n",
       " 'gene 311',\n",
       " 'gene 312',\n",
       " 'gene 313',\n",
       " 'gene 314',\n",
       " 'gene 315',\n",
       " 'gene 316',\n",
       " 'gene 317',\n",
       " 'gene 318',\n",
       " 'gene 319',\n",
       " 'gene 320',\n",
       " 'gene 321',\n",
       " 'gene 322',\n",
       " 'gene 323',\n",
       " 'gene 324',\n",
       " 'gene 325',\n",
       " 'gene 326',\n",
       " 'gene 327',\n",
       " 'gene 328',\n",
       " 'gene 329',\n",
       " 'gene 330',\n",
       " 'gene 331',\n",
       " 'gene 332',\n",
       " 'gene 333',\n",
       " 'gene 334',\n",
       " 'gene 335',\n",
       " 'gene 336',\n",
       " 'gene 337',\n",
       " 'gene 338',\n",
       " 'gene 339',\n",
       " 'gene 340',\n",
       " 'gene 341',\n",
       " 'gene 342',\n",
       " 'gene 343',\n",
       " 'gene 344',\n",
       " 'gene 345',\n",
       " 'gene 346',\n",
       " 'gene 347',\n",
       " 'gene 348',\n",
       " 'gene 349',\n",
       " 'gene 350',\n",
       " 'gene 351',\n",
       " 'gene 352',\n",
       " 'gene 353',\n",
       " 'gene 354',\n",
       " 'gene 355',\n",
       " 'gene 356',\n",
       " 'gene 357',\n",
       " 'gene 358',\n",
       " 'gene 359',\n",
       " 'gene 360',\n",
       " 'gene 361',\n",
       " 'gene 362',\n",
       " 'gene 363',\n",
       " 'gene 364',\n",
       " 'gene 365',\n",
       " 'gene 366',\n",
       " 'gene 367',\n",
       " 'gene 368',\n",
       " 'gene 369',\n",
       " 'gene 370',\n",
       " 'gene 371',\n",
       " 'gene 372',\n",
       " 'gene 373',\n",
       " 'gene 374',\n",
       " 'gene 375',\n",
       " 'gene 376',\n",
       " 'gene 377',\n",
       " 'gene 378',\n",
       " 'gene 379',\n",
       " 'gene 380',\n",
       " 'gene 381',\n",
       " 'gene 382',\n",
       " 'gene 383',\n",
       " 'gene 384',\n",
       " 'gene 385',\n",
       " 'gene 386',\n",
       " 'gene 387',\n",
       " 'gene 388',\n",
       " 'gene 389',\n",
       " 'gene 390',\n",
       " 'gene 391',\n",
       " 'gene 392',\n",
       " 'gene 393',\n",
       " 'gene 394',\n",
       " 'gene 395',\n",
       " 'gene 396',\n",
       " 'gene 397',\n",
       " 'gene 398',\n",
       " 'gene 399',\n",
       " 'gene 400',\n",
       " 'gene 401',\n",
       " 'gene 402',\n",
       " 'gene 403',\n",
       " 'gene 404',\n",
       " 'gene 405',\n",
       " 'gene 406',\n",
       " 'gene 407',\n",
       " 'gene 408',\n",
       " 'gene 409',\n",
       " 'gene 410',\n",
       " 'gene 411',\n",
       " 'gene 412',\n",
       " 'gene 413',\n",
       " 'gene 414',\n",
       " 'gene 415',\n",
       " 'gene 416',\n",
       " 'gene 417',\n",
       " 'gene 418',\n",
       " 'gene 419',\n",
       " 'gene 420',\n",
       " 'gene 421',\n",
       " 'gene 422',\n",
       " 'gene 423',\n",
       " 'gene 424',\n",
       " 'gene 425',\n",
       " 'gene 426',\n",
       " 'gene 427',\n",
       " 'gene 428',\n",
       " 'gene 429',\n",
       " 'gene 430',\n",
       " 'gene 431',\n",
       " 'gene 432',\n",
       " 'gene 433',\n",
       " 'gene 434',\n",
       " 'gene 435',\n",
       " 'gene 436',\n",
       " 'gene 437',\n",
       " 'gene 438',\n",
       " 'gene 439',\n",
       " 'gene 440',\n",
       " 'gene 441',\n",
       " 'gene 442',\n",
       " 'gene 443',\n",
       " 'gene 444',\n",
       " 'gene 445',\n",
       " 'gene 446',\n",
       " 'gene 447',\n",
       " 'gene 448',\n",
       " 'gene 449',\n",
       " 'gene 450',\n",
       " 'gene 451',\n",
       " 'gene 452',\n",
       " 'gene 453',\n",
       " 'gene 454',\n",
       " 'gene 455',\n",
       " 'gene 456',\n",
       " 'gene 457',\n",
       " 'gene 458',\n",
       " 'gene 459',\n",
       " 'gene 460',\n",
       " 'gene 461',\n",
       " 'gene 462',\n",
       " 'gene 463',\n",
       " 'gene 464',\n",
       " 'gene 465',\n",
       " 'gene 466',\n",
       " 'gene 467',\n",
       " 'gene 468',\n",
       " 'gene 469',\n",
       " 'gene 470',\n",
       " 'gene 471',\n",
       " 'gene 472',\n",
       " 'gene 473',\n",
       " 'gene 474',\n",
       " 'gene 475',\n",
       " 'gene 476',\n",
       " 'gene 477',\n",
       " 'gene 478',\n",
       " 'gene 479',\n",
       " 'gene 480',\n",
       " 'gene 481',\n",
       " 'gene 482',\n",
       " 'gene 483',\n",
       " 'gene 484',\n",
       " 'gene 485',\n",
       " 'gene 486',\n",
       " 'gene 487',\n",
       " 'gene 488',\n",
       " 'gene 489',\n",
       " 'gene 490',\n",
       " 'gene 491',\n",
       " 'gene 492',\n",
       " 'gene 493',\n",
       " 'gene 494',\n",
       " 'gene 495',\n",
       " 'gene 496',\n",
       " 'gene 497',\n",
       " 'gene 498',\n",
       " 'gene 499',\n",
       " 'gene 500',\n",
       " 'gene 501',\n",
       " 'gene 502',\n",
       " 'gene 503',\n",
       " 'gene 504',\n",
       " 'gene 505',\n",
       " 'gene 506',\n",
       " 'gene 507',\n",
       " 'gene 508',\n",
       " 'gene 509',\n",
       " 'gene 510',\n",
       " 'gene 511',\n",
       " 'gene 512',\n",
       " 'gene 513',\n",
       " 'gene 514',\n",
       " 'gene 515',\n",
       " 'gene 516',\n",
       " 'gene 517',\n",
       " 'gene 518',\n",
       " 'gene 519',\n",
       " 'gene 520',\n",
       " 'gene 521',\n",
       " 'gene 522',\n",
       " 'gene 523',\n",
       " 'gene 524',\n",
       " 'gene 525',\n",
       " 'gene 526',\n",
       " 'gene 527',\n",
       " 'gene 528',\n",
       " 'gene 529',\n",
       " 'gene 530',\n",
       " 'gene 531',\n",
       " 'gene 532',\n",
       " 'gene 533',\n",
       " 'gene 534',\n",
       " 'gene 535',\n",
       " 'gene 536',\n",
       " 'gene 537',\n",
       " 'gene 538',\n",
       " 'gene 539',\n",
       " 'gene 540',\n",
       " 'gene 541',\n",
       " 'gene 542',\n",
       " 'gene 543',\n",
       " 'gene 544',\n",
       " 'gene 545',\n",
       " 'gene 546',\n",
       " 'gene 547',\n",
       " 'gene 548',\n",
       " 'gene 549',\n",
       " 'gene 550',\n",
       " 'gene 551',\n",
       " 'gene 552',\n",
       " 'gene 553',\n",
       " 'gene 554',\n",
       " 'gene 555',\n",
       " 'gene 556',\n",
       " 'gene 557',\n",
       " 'gene 558',\n",
       " 'gene 559',\n",
       " 'gene 560',\n",
       " 'gene 561',\n",
       " 'gene 562',\n",
       " 'gene 563',\n",
       " 'gene 564',\n",
       " 'gene 565',\n",
       " 'gene 566',\n",
       " 'gene 567',\n",
       " 'gene 568',\n",
       " 'gene 569',\n",
       " 'gene 570',\n",
       " 'gene 571',\n",
       " 'gene 572',\n",
       " 'gene 573',\n",
       " 'gene 574',\n",
       " 'gene 575',\n",
       " 'gene 576',\n",
       " 'gene 577',\n",
       " 'gene 578',\n",
       " 'gene 579',\n",
       " 'gene 580',\n",
       " 'gene 581',\n",
       " 'gene 582',\n",
       " 'gene 583',\n",
       " 'gene 584',\n",
       " 'gene 585',\n",
       " 'gene 586',\n",
       " 'gene 587',\n",
       " 'gene 588',\n",
       " 'gene 589',\n",
       " 'gene 590',\n",
       " 'gene 591',\n",
       " 'gene 592',\n",
       " 'gene 593',\n",
       " 'gene 594',\n",
       " 'gene 595',\n",
       " 'gene 596',\n",
       " 'gene 597',\n",
       " 'gene 598',\n",
       " 'gene 599',\n",
       " 'gene 600',\n",
       " 'gene 601',\n",
       " 'gene 602',\n",
       " 'gene 603',\n",
       " 'gene 604',\n",
       " 'gene 605',\n",
       " 'gene 606',\n",
       " 'gene 607',\n",
       " 'gene 608',\n",
       " 'gene 609',\n",
       " 'gene 610',\n",
       " 'gene 611',\n",
       " 'gene 612',\n",
       " 'gene 613',\n",
       " 'gene 614',\n",
       " 'gene 615',\n",
       " 'gene 616',\n",
       " 'gene 617',\n",
       " 'gene 618',\n",
       " 'gene 619',\n",
       " 'gene 620',\n",
       " 'gene 621',\n",
       " 'gene 622',\n",
       " 'gene 623',\n",
       " 'gene 624',\n",
       " 'gene 625',\n",
       " 'gene 626',\n",
       " 'gene 627',\n",
       " 'gene 628',\n",
       " 'gene 629',\n",
       " 'gene 630',\n",
       " 'gene 631',\n",
       " 'gene 632',\n",
       " 'gene 633',\n",
       " 'gene 634',\n",
       " 'gene 635',\n",
       " 'gene 636',\n",
       " 'gene 637',\n",
       " 'gene 638',\n",
       " 'gene 639',\n",
       " 'gene 640',\n",
       " 'gene 641',\n",
       " 'gene 642',\n",
       " 'gene 643',\n",
       " 'gene 644',\n",
       " 'gene 645',\n",
       " 'gene 646',\n",
       " 'gene 647',\n",
       " 'gene 648',\n",
       " 'gene 649',\n",
       " 'gene 650',\n",
       " 'gene 651',\n",
       " 'gene 652',\n",
       " 'gene 653',\n",
       " 'gene 654',\n",
       " 'gene 655',\n",
       " 'gene 656',\n",
       " 'gene 657',\n",
       " 'gene 658',\n",
       " 'gene 659',\n",
       " 'gene 660',\n",
       " 'gene 661',\n",
       " 'gene 662',\n",
       " 'gene 663',\n",
       " 'gene 664',\n",
       " 'gene 665',\n",
       " 'gene 666',\n",
       " 'gene 667',\n",
       " 'gene 668',\n",
       " 'gene 669',\n",
       " 'gene 670',\n",
       " 'gene 671',\n",
       " 'gene 672',\n",
       " 'gene 673',\n",
       " 'gene 674',\n",
       " 'gene 675',\n",
       " 'gene 676',\n",
       " 'gene 677',\n",
       " 'gene 678',\n",
       " 'gene 679',\n",
       " 'gene 680',\n",
       " 'gene 681',\n",
       " 'gene 682',\n",
       " 'gene 683',\n",
       " 'gene 684',\n",
       " 'gene 685',\n",
       " 'gene 686',\n",
       " 'gene 687',\n",
       " 'gene 688',\n",
       " 'gene 689',\n",
       " 'gene 690',\n",
       " 'gene 691',\n",
       " 'gene 692',\n",
       " 'gene 693',\n",
       " 'gene 694',\n",
       " 'gene 695',\n",
       " 'gene 696',\n",
       " 'gene 697',\n",
       " 'gene 698',\n",
       " 'gene 699',\n",
       " 'gene 700',\n",
       " 'gene 701',\n",
       " 'gene 702',\n",
       " 'gene 703',\n",
       " 'gene 704',\n",
       " 'gene 705',\n",
       " 'gene 706',\n",
       " 'gene 707',\n",
       " 'gene 708',\n",
       " 'gene 709',\n",
       " 'gene 710',\n",
       " 'gene 711',\n",
       " 'gene 712',\n",
       " 'gene 713',\n",
       " 'gene 714',\n",
       " 'gene 715',\n",
       " 'gene 716',\n",
       " 'gene 717',\n",
       " 'gene 718',\n",
       " 'gene 719',\n",
       " 'gene 720',\n",
       " 'gene 721',\n",
       " 'gene 722',\n",
       " 'gene 723',\n",
       " 'gene 724',\n",
       " 'gene 725',\n",
       " 'gene 726',\n",
       " 'gene 727',\n",
       " 'gene 728',\n",
       " 'gene 729',\n",
       " 'gene 730',\n",
       " 'gene 731',\n",
       " 'gene 732',\n",
       " 'gene 733',\n",
       " 'gene 734',\n",
       " 'gene 735',\n",
       " 'gene 736',\n",
       " 'gene 737',\n",
       " 'gene 738',\n",
       " 'gene 739',\n",
       " 'gene 740',\n",
       " 'gene 741',\n",
       " 'gene 742',\n",
       " 'gene 743',\n",
       " 'gene 744',\n",
       " 'gene 745',\n",
       " 'gene 746',\n",
       " 'gene 747',\n",
       " 'gene 748',\n",
       " 'gene 749',\n",
       " 'gene 750',\n",
       " 'gene 751',\n",
       " 'gene 752',\n",
       " 'gene 753',\n",
       " 'gene 754',\n",
       " 'gene 755',\n",
       " 'gene 756',\n",
       " 'gene 757',\n",
       " 'gene 758',\n",
       " 'gene 759',\n",
       " 'gene 760',\n",
       " 'gene 761',\n",
       " 'gene 762',\n",
       " 'gene 763',\n",
       " 'gene 764',\n",
       " 'gene 765',\n",
       " 'gene 766',\n",
       " 'gene 767',\n",
       " 'gene 768',\n",
       " 'gene 769',\n",
       " 'gene 770',\n",
       " 'gene 771',\n",
       " 'gene 772',\n",
       " 'gene 773',\n",
       " 'gene 774',\n",
       " 'gene 775',\n",
       " 'gene 776',\n",
       " 'gene 777',\n",
       " 'gene 778',\n",
       " 'gene 779',\n",
       " 'gene 780',\n",
       " 'gene 781',\n",
       " 'gene 782',\n",
       " 'gene 783',\n",
       " 'gene 784',\n",
       " 'gene 785',\n",
       " 'gene 786',\n",
       " 'gene 787',\n",
       " 'gene 788',\n",
       " 'gene 789',\n",
       " 'gene 790',\n",
       " 'gene 791',\n",
       " 'gene 792',\n",
       " 'gene 793',\n",
       " 'gene 794',\n",
       " 'gene 795',\n",
       " 'gene 796',\n",
       " 'gene 797',\n",
       " 'gene 798',\n",
       " 'gene 799',\n",
       " 'gene 800',\n",
       " 'gene 801',\n",
       " 'gene 802',\n",
       " 'gene 803',\n",
       " 'gene 804',\n",
       " 'gene 805',\n",
       " 'gene 806',\n",
       " 'gene 807',\n",
       " 'gene 808',\n",
       " 'gene 809',\n",
       " 'gene 810',\n",
       " 'gene 811',\n",
       " 'gene 812',\n",
       " 'gene 813',\n",
       " 'gene 814',\n",
       " 'gene 815',\n",
       " 'gene 816',\n",
       " 'gene 817',\n",
       " 'gene 818',\n",
       " 'gene 819',\n",
       " 'gene 820',\n",
       " 'gene 821',\n",
       " 'gene 822',\n",
       " 'gene 823',\n",
       " 'gene 824',\n",
       " 'gene 825',\n",
       " 'gene 826',\n",
       " 'gene 827',\n",
       " 'gene 828',\n",
       " 'gene 829',\n",
       " 'gene 830',\n",
       " 'gene 831',\n",
       " 'gene 832',\n",
       " 'gene 833',\n",
       " 'gene 834',\n",
       " 'gene 835',\n",
       " 'gene 836',\n",
       " 'gene 837',\n",
       " 'gene 838',\n",
       " 'gene 839',\n",
       " 'gene 840',\n",
       " 'gene 841',\n",
       " 'gene 842',\n",
       " 'gene 843',\n",
       " 'gene 844',\n",
       " 'gene 845',\n",
       " 'gene 846',\n",
       " 'gene 847',\n",
       " 'gene 848',\n",
       " 'gene 849',\n",
       " 'gene 850',\n",
       " 'gene 851',\n",
       " 'gene 852',\n",
       " 'gene 853',\n",
       " 'gene 854',\n",
       " 'gene 855',\n",
       " 'gene 856',\n",
       " 'gene 857',\n",
       " 'gene 858',\n",
       " 'gene 859',\n",
       " 'gene 860',\n",
       " 'gene 861',\n",
       " 'gene 862',\n",
       " 'gene 863',\n",
       " 'gene 864',\n",
       " 'gene 865',\n",
       " 'gene 866',\n",
       " 'gene 867',\n",
       " 'gene 868',\n",
       " 'gene 869',\n",
       " 'gene 870',\n",
       " 'gene 871',\n",
       " 'gene 872',\n",
       " 'gene 873',\n",
       " 'gene 874',\n",
       " 'gene 875',\n",
       " 'gene 876',\n",
       " 'gene 877',\n",
       " 'gene 878',\n",
       " 'gene 879',\n",
       " 'gene 880',\n",
       " 'gene 881',\n",
       " 'gene 882',\n",
       " 'gene 883',\n",
       " 'gene 884',\n",
       " 'gene 885',\n",
       " 'gene 886',\n",
       " 'gene 887',\n",
       " 'gene 888',\n",
       " 'gene 889',\n",
       " 'gene 890',\n",
       " 'gene 891',\n",
       " 'gene 892',\n",
       " 'gene 893',\n",
       " 'gene 894',\n",
       " 'gene 895',\n",
       " 'gene 896',\n",
       " 'gene 897',\n",
       " 'gene 898',\n",
       " 'gene 899',\n",
       " 'gene 900',\n",
       " 'gene 901',\n",
       " 'gene 902',\n",
       " 'gene 903',\n",
       " 'gene 904',\n",
       " 'gene 905',\n",
       " 'gene 906',\n",
       " 'gene 907',\n",
       " 'gene 908',\n",
       " 'gene 909',\n",
       " 'gene 910',\n",
       " 'gene 911',\n",
       " 'gene 912',\n",
       " 'gene 913',\n",
       " 'gene 914',\n",
       " 'gene 915',\n",
       " 'gene 916',\n",
       " 'gene 917',\n",
       " 'gene 918',\n",
       " 'gene 919',\n",
       " 'gene 920',\n",
       " 'gene 921',\n",
       " 'gene 922',\n",
       " 'gene 923',\n",
       " 'gene 924',\n",
       " 'gene 925',\n",
       " 'gene 926',\n",
       " 'gene 927',\n",
       " 'gene 928',\n",
       " 'gene 929',\n",
       " 'gene 930',\n",
       " 'gene 931',\n",
       " 'gene 932',\n",
       " 'gene 933',\n",
       " 'gene 934',\n",
       " 'gene 935',\n",
       " 'gene 936',\n",
       " 'gene 937',\n",
       " 'gene 938',\n",
       " 'gene 939',\n",
       " 'gene 940',\n",
       " 'gene 941',\n",
       " 'gene 942',\n",
       " 'gene 943',\n",
       " 'gene 944',\n",
       " 'gene 945',\n",
       " 'gene 946',\n",
       " 'gene 947',\n",
       " 'gene 948',\n",
       " 'gene 949',\n",
       " 'gene 950',\n",
       " 'gene 951',\n",
       " 'gene 952',\n",
       " 'gene 953',\n",
       " 'gene 954',\n",
       " 'gene 955',\n",
       " 'gene 956',\n",
       " 'gene 957',\n",
       " 'gene 958',\n",
       " 'gene 959',\n",
       " 'gene 960',\n",
       " 'gene 961',\n",
       " 'gene 962',\n",
       " 'gene 963',\n",
       " 'gene 964',\n",
       " 'gene 965',\n",
       " 'gene 966',\n",
       " 'gene 967',\n",
       " 'gene 968',\n",
       " 'gene 969',\n",
       " 'gene 970',\n",
       " 'gene 971',\n",
       " 'gene 972',\n",
       " 'gene 973',\n",
       " 'gene 974',\n",
       " 'gene 975',\n",
       " 'gene 976',\n",
       " 'gene 977',\n",
       " 'gene 978',\n",
       " 'gene 979',\n",
       " 'gene 980',\n",
       " 'gene 981',\n",
       " 'gene 982',\n",
       " 'gene 983',\n",
       " 'gene 984',\n",
       " 'gene 985',\n",
       " 'gene 986',\n",
       " 'gene 987',\n",
       " 'gene 988',\n",
       " 'gene 989',\n",
       " 'gene 990',\n",
       " 'gene 991',\n",
       " 'gene 992',\n",
       " 'gene 993',\n",
       " 'gene 994',\n",
       " 'gene 995',\n",
       " 'gene 996',\n",
       " 'gene 997',\n",
       " 'gene 998',\n",
       " 'gene 999',\n",
       " 'gene 1000',\n",
       " ...]"
      ]
     },
     "execution_count": 15,
     "metadata": {},
     "output_type": "execute_result"
    }
   ],
   "source": [
    "new_col_list = []\n",
    "for i in range(x.columns.size) :\n",
    "  new_col_list.append('gene '+str(i+1))\n",
    "new_col_list\n",
    " \n",
    " "
   ]
  },
  {
   "cell_type": "code",
   "execution_count": 16,
   "metadata": {
    "colab": {
     "base_uri": "https://localhost:8080/",
     "height": 121
    },
    "colab_type": "code",
    "id": "oGWvNIQqaeSA",
    "outputId": "bf0487b2-f18e-4e7e-ed4d-368e5d5dab6f"
   },
   "outputs": [
    {
     "data": {
      "text/plain": [
       "Index(['gene 1', 'gene 2', 'gene 3', 'gene 4', 'gene 5', 'gene 6', 'gene 7',\n",
       "       'gene 8', 'gene 9', 'gene 10',\n",
       "       ...\n",
       "       'gene 7120', 'gene 7121', 'gene 7122', 'gene 7123', 'gene 7124',\n",
       "       'gene 7125', 'gene 7126', 'gene 7127', 'gene 7128', 'gene 7129'],\n",
       "      dtype='object', length=7129)"
      ]
     },
     "execution_count": 16,
     "metadata": {},
     "output_type": "execute_result"
    }
   ],
   "source": [
    "x.columns = new_col_list\n",
    "x.columns"
   ]
  },
  {
   "cell_type": "code",
   "execution_count": 17,
   "metadata": {
    "colab": {
     "base_uri": "https://localhost:8080/",
     "height": 121
    },
    "colab_type": "code",
    "id": "j2HlOfkca-kc",
    "outputId": "448caf0e-a7d5-48bd-91f2-999499677382"
   },
   "outputs": [
    {
     "name": "stdout",
     "output_type": "stream",
     "text": [
      "38\n"
     ]
    },
    {
     "data": {
      "text/plain": [
       "Index(['1', '2', '3', '4', '5', '6', '7', '8', '9', '10', '11', '12', '13',\n",
       "       '14', '15', '16', '17', '18', '19', '20', '21', '22', '23', '24', '25',\n",
       "       '26', '27', '34', '35', '36', '37', '38', '28', '29', '30', '31', '32',\n",
       "       '33'],\n",
       "      dtype='object')"
      ]
     },
     "execution_count": 17,
     "metadata": {},
     "output_type": "execute_result"
    }
   ],
   "source": [
    "print(x.index.size)\n",
    "x.index"
   ]
  },
  {
   "cell_type": "code",
   "execution_count": 18,
   "metadata": {
    "colab": {
     "base_uri": "https://localhost:8080/",
     "height": 72
    },
    "colab_type": "code",
    "id": "F6sktsZwbVqO",
    "outputId": "69b54842-ac3a-4e4c-cd45-ddbf982a2742"
   },
   "outputs": [
    {
     "name": "stdout",
     "output_type": "stream",
     "text": [
      "['patient 1', 'patient 2', 'patient 3', 'patient 4', 'patient 5', 'patient 6', 'patient 7', 'patient 8', 'patient 9', 'patient 10', 'patient 11', 'patient 12', 'patient 13', 'patient 14', 'patient 15', 'patient 16', 'patient 17', 'patient 18', 'patient 19', 'patient 20', 'patient 21', 'patient 22', 'patient 23', 'patient 24', 'patient 25', 'patient 26', 'patient 27', 'patient 28', 'patient 29', 'patient 30', 'patient 31', 'patient 32', 'patient 33', 'patient 34', 'patient 35', 'patient 36', 'patient 37', 'patient 38']\n",
      "<class 'pandas.core.frame.DataFrame'>\n"
     ]
    }
   ],
   "source": [
    "new_row_list = []\n",
    "for i in range(x.index.size) :\n",
    "  new_row_list.append('patient '+str(i+1))\n",
    "print(new_row_list)\n",
    "x.index = new_row_list\n",
    "x\n",
    "print(type(x))"
   ]
  },
  {
   "cell_type": "code",
   "execution_count": 19,
   "metadata": {
    "colab": {
     "base_uri": "https://localhost:8080/",
     "height": 225
    },
    "colab_type": "code",
    "id": "ga424KJunPgH",
    "outputId": "2d01f3c8-8185-4017-a15b-bb96abf5fd3b"
   },
   "outputs": [
    {
     "data": {
      "text/plain": [
       "0     1\n",
       "1     1\n",
       "2     1\n",
       "3     1\n",
       "4     1\n",
       "     ..\n",
       "67    1\n",
       "68    1\n",
       "69    1\n",
       "70    1\n",
       "71    1\n",
       "Name: ALL, Length: 72, dtype: uint8"
      ]
     },
     "execution_count": 19,
     "metadata": {},
     "output_type": "execute_result"
    }
   ],
   "source": [
    "y = pd.get_dummies(trainset['cancer'])\n",
    "y['ALL']"
   ]
  },
  {
   "cell_type": "code",
   "execution_count": 20,
   "metadata": {
    "colab": {
     "base_uri": "https://localhost:8080/",
     "height": 415
    },
    "colab_type": "code",
    "id": "ppyJnArgpN46",
    "outputId": "d12c848f-fe90-43f6-ba47-13b111a16a81"
   },
   "outputs": [
    {
     "data": {
      "text/html": [
       "<div>\n",
       "<style scoped>\n",
       "    .dataframe tbody tr th:only-of-type {\n",
       "        vertical-align: middle;\n",
       "    }\n",
       "\n",
       "    .dataframe tbody tr th {\n",
       "        vertical-align: top;\n",
       "    }\n",
       "\n",
       "    .dataframe thead th {\n",
       "        text-align: right;\n",
       "    }\n",
       "</style>\n",
       "<table border=\"1\" class=\"dataframe\">\n",
       "  <thead>\n",
       "    <tr style=\"text-align: right;\">\n",
       "      <th></th>\n",
       "      <th>AML</th>\n",
       "    </tr>\n",
       "  </thead>\n",
       "  <tbody>\n",
       "    <tr>\n",
       "      <th>0</th>\n",
       "      <td>0</td>\n",
       "    </tr>\n",
       "    <tr>\n",
       "      <th>1</th>\n",
       "      <td>0</td>\n",
       "    </tr>\n",
       "    <tr>\n",
       "      <th>2</th>\n",
       "      <td>0</td>\n",
       "    </tr>\n",
       "    <tr>\n",
       "      <th>3</th>\n",
       "      <td>0</td>\n",
       "    </tr>\n",
       "    <tr>\n",
       "      <th>4</th>\n",
       "      <td>0</td>\n",
       "    </tr>\n",
       "    <tr>\n",
       "      <th>...</th>\n",
       "      <td>...</td>\n",
       "    </tr>\n",
       "    <tr>\n",
       "      <th>67</th>\n",
       "      <td>0</td>\n",
       "    </tr>\n",
       "    <tr>\n",
       "      <th>68</th>\n",
       "      <td>0</td>\n",
       "    </tr>\n",
       "    <tr>\n",
       "      <th>69</th>\n",
       "      <td>0</td>\n",
       "    </tr>\n",
       "    <tr>\n",
       "      <th>70</th>\n",
       "      <td>0</td>\n",
       "    </tr>\n",
       "    <tr>\n",
       "      <th>71</th>\n",
       "      <td>0</td>\n",
       "    </tr>\n",
       "  </tbody>\n",
       "</table>\n",
       "<p>72 rows × 1 columns</p>\n",
       "</div>"
      ],
      "text/plain": [
       "    AML\n",
       "0     0\n",
       "1     0\n",
       "2     0\n",
       "3     0\n",
       "4     0\n",
       "..  ...\n",
       "67    0\n",
       "68    0\n",
       "69    0\n",
       "70    0\n",
       "71    0\n",
       "\n",
       "[72 rows x 1 columns]"
      ]
     },
     "execution_count": 20,
     "metadata": {},
     "output_type": "execute_result"
    }
   ],
   "source": [
    "y.drop(['ALL'],axis = 1,inplace = True)\n",
    "y"
   ]
  },
  {
   "cell_type": "code",
   "execution_count": 21,
   "metadata": {
    "colab": {
     "base_uri": "https://localhost:8080/",
     "height": 35
    },
    "colab_type": "code",
    "id": "qQxJvCbPt01z",
    "outputId": "b7202389-e37a-4819-f564-4ceca58be6e9"
   },
   "outputs": [
    {
     "data": {
      "text/plain": [
       "Index(['patient', 'cancer'], dtype='object')"
      ]
     },
     "execution_count": 21,
     "metadata": {},
     "output_type": "execute_result"
    }
   ],
   "source": [
    "trainset.columns"
   ]
  },
  {
   "cell_type": "code",
   "execution_count": 22,
   "metadata": {
    "colab": {
     "base_uri": "https://localhost:8080/",
     "height": 606
    },
    "colab_type": "code",
    "id": "LlDfIL48oPXs",
    "outputId": "dcae4cc5-894a-4a74-9a2c-a0c6e3ac57b4"
   },
   "outputs": [
    {
     "data": {
      "image/png": "[encoded data removed]",
      "text/plain": [
       "<Figure size 720x720 with 1 Axes>"
      ]
     },
     "metadata": {
      "needs_background": "light"
     },
     "output_type": "display_data"
    }
   ],
   "source": [
    "import seaborn as sns\n",
    "plt.figure(figsize=(10,10))\n",
    "sns.countplot(x='cancer',data=trainset)\n",
    "plt.show()"
   ]
  },
  {
   "cell_type": "code",
   "execution_count": 23,
   "metadata": {
    "colab": {
     "base_uri": "https://localhost:8080/",
     "height": 606
    },
    "colab_type": "code",
    "id": "31gpytrZzdHu",
    "outputId": "dbc8057b-c8d0-4f56-fc00-df9bfa6519e7"
   },
   "outputs": [
    {
     "data": {
      "image/png": "[encoded data removed]",
      "text/plain": [
       "<Figure size 720x720 with 1 Axes>"
      ]
     },
     "metadata": {
      "needs_background": "light"
     },
     "output_type": "display_data"
    }
   ],
   "source": [
    "\n",
    "plt.figure(figsize=(10,10))\n",
    "sns.countplot(x='AML',data=y)\n",
    "plt.show()"
   ]
  },
  {
   "cell_type": "code",
   "execution_count": 24,
   "metadata": {
    "colab": {
     "base_uri": "https://localhost:8080/",
     "height": 35
    },
    "colab_type": "code",
    "id": "2-JhS1bDsXON",
    "outputId": "9942fc3f-04f3-41a7-84ce-5fad91e7c427"
   },
   "outputs": [
    {
     "name": "stdout",
     "output_type": "stream",
     "text": [
      "(38, 1)\n"
     ]
    }
   ],
   "source": [
    "train_y = y.iloc[0:38,:].values\n",
    "print(train_y.shape)\n"
   ]
  },
  {
   "cell_type": "markdown",
   "metadata": {
    "colab_type": "text",
    "id": "HL5W4-Ypz4Z-"
   },
   "source": [
    "## preparing test data set"
   ]
  },
  {
   "cell_type": "code",
   "execution_count": 25,
   "metadata": {
    "colab": {
     "base_uri": "https://localhost:8080/",
     "height": 517
    },
    "colab_type": "code",
    "id": "jpPBsK7gwhhT",
    "outputId": "d6ef6e45-52b4-4bcb-ec27-1f2b6a864266"
   },
   "outputs": [
    {
     "data": {
      "text/html": [
       "<div>\n",
       "<style scoped>\n",
       "    .dataframe tbody tr th:only-of-type {\n",
       "        vertical-align: middle;\n",
       "    }\n",
       "\n",
       "    .dataframe tbody tr th {\n",
       "        vertical-align: top;\n",
       "    }\n",
       "\n",
       "    .dataframe thead th {\n",
       "        text-align: right;\n",
       "    }\n",
       "</style>\n",
       "<table border=\"1\" class=\"dataframe\">\n",
       "  <thead>\n",
       "    <tr style=\"text-align: right;\">\n",
       "      <th></th>\n",
       "      <th>Gene Description</th>\n",
       "      <th>Gene Accession Number</th>\n",
       "      <th>39</th>\n",
       "      <th>40</th>\n",
       "      <th>42</th>\n",
       "      <th>47</th>\n",
       "      <th>48</th>\n",
       "      <th>49</th>\n",
       "      <th>41</th>\n",
       "      <th>43</th>\n",
       "      <th>...</th>\n",
       "      <th>54</th>\n",
       "      <th>57</th>\n",
       "      <th>58</th>\n",
       "      <th>60</th>\n",
       "      <th>61</th>\n",
       "      <th>65</th>\n",
       "      <th>66</th>\n",
       "      <th>63</th>\n",
       "      <th>64</th>\n",
       "      <th>62</th>\n",
       "    </tr>\n",
       "  </thead>\n",
       "  <tbody>\n",
       "    <tr>\n",
       "      <th>0</th>\n",
       "      <td>AFFX-BioB-5_at (endogenous control)</td>\n",
       "      <td>AFFX-BioB-5_at</td>\n",
       "      <td>-342</td>\n",
       "      <td>-87</td>\n",
       "      <td>22</td>\n",
       "      <td>-243</td>\n",
       "      <td>-130</td>\n",
       "      <td>-256</td>\n",
       "      <td>-62</td>\n",
       "      <td>86</td>\n",
       "      <td>...</td>\n",
       "      <td>-90</td>\n",
       "      <td>-137</td>\n",
       "      <td>-157</td>\n",
       "      <td>-172</td>\n",
       "      <td>-47</td>\n",
       "      <td>-62</td>\n",
       "      <td>-58</td>\n",
       "      <td>-161</td>\n",
       "      <td>-48</td>\n",
       "      <td>-176</td>\n",
       "    </tr>\n",
       "    <tr>\n",
       "      <th>1</th>\n",
       "      <td>AFFX-BioB-M_at (endogenous control)</td>\n",
       "      <td>AFFX-BioB-M_at</td>\n",
       "      <td>-200</td>\n",
       "      <td>-248</td>\n",
       "      <td>-153</td>\n",
       "      <td>-218</td>\n",
       "      <td>-177</td>\n",
       "      <td>-249</td>\n",
       "      <td>-23</td>\n",
       "      <td>-36</td>\n",
       "      <td>...</td>\n",
       "      <td>-87</td>\n",
       "      <td>-51</td>\n",
       "      <td>-370</td>\n",
       "      <td>-122</td>\n",
       "      <td>-442</td>\n",
       "      <td>-198</td>\n",
       "      <td>-217</td>\n",
       "      <td>-215</td>\n",
       "      <td>-531</td>\n",
       "      <td>-284</td>\n",
       "    </tr>\n",
       "    <tr>\n",
       "      <th>2</th>\n",
       "      <td>AFFX-BioB-3_at (endogenous control)</td>\n",
       "      <td>AFFX-BioB-3_at</td>\n",
       "      <td>41</td>\n",
       "      <td>262</td>\n",
       "      <td>17</td>\n",
       "      <td>-163</td>\n",
       "      <td>-28</td>\n",
       "      <td>-410</td>\n",
       "      <td>-7</td>\n",
       "      <td>-141</td>\n",
       "      <td>...</td>\n",
       "      <td>102</td>\n",
       "      <td>-82</td>\n",
       "      <td>-77</td>\n",
       "      <td>38</td>\n",
       "      <td>-21</td>\n",
       "      <td>-5</td>\n",
       "      <td>63</td>\n",
       "      <td>-46</td>\n",
       "      <td>-124</td>\n",
       "      <td>-81</td>\n",
       "    </tr>\n",
       "    <tr>\n",
       "      <th>3</th>\n",
       "      <td>AFFX-BioC-5_at (endogenous control)</td>\n",
       "      <td>AFFX-BioC-5_at</td>\n",
       "      <td>328</td>\n",
       "      <td>295</td>\n",
       "      <td>276</td>\n",
       "      <td>182</td>\n",
       "      <td>266</td>\n",
       "      <td>24</td>\n",
       "      <td>142</td>\n",
       "      <td>252</td>\n",
       "      <td>...</td>\n",
       "      <td>319</td>\n",
       "      <td>178</td>\n",
       "      <td>340</td>\n",
       "      <td>31</td>\n",
       "      <td>396</td>\n",
       "      <td>141</td>\n",
       "      <td>95</td>\n",
       "      <td>146</td>\n",
       "      <td>431</td>\n",
       "      <td>9</td>\n",
       "    </tr>\n",
       "    <tr>\n",
       "      <th>4</th>\n",
       "      <td>AFFX-BioC-3_at (endogenous control)</td>\n",
       "      <td>AFFX-BioC-3_at</td>\n",
       "      <td>-224</td>\n",
       "      <td>-226</td>\n",
       "      <td>-211</td>\n",
       "      <td>-289</td>\n",
       "      <td>-170</td>\n",
       "      <td>-535</td>\n",
       "      <td>-233</td>\n",
       "      <td>-201</td>\n",
       "      <td>...</td>\n",
       "      <td>-283</td>\n",
       "      <td>-135</td>\n",
       "      <td>-438</td>\n",
       "      <td>-201</td>\n",
       "      <td>-351</td>\n",
       "      <td>-256</td>\n",
       "      <td>-191</td>\n",
       "      <td>-172</td>\n",
       "      <td>-496</td>\n",
       "      <td>-294</td>\n",
       "    </tr>\n",
       "  </tbody>\n",
       "</table>\n",
       "<p>5 rows × 36 columns</p>\n",
       "</div>"
      ],
      "text/plain": [
       "                      Gene Description Gene Accession Number   39   40   42  \\\n",
       "0  AFFX-BioB-5_at (endogenous control)        AFFX-BioB-5_at -342  -87   22   \n",
       "1  AFFX-BioB-M_at (endogenous control)        AFFX-BioB-M_at -200 -248 -153   \n",
       "2  AFFX-BioB-3_at (endogenous control)        AFFX-BioB-3_at   41  262   17   \n",
       "3  AFFX-BioC-5_at (endogenous control)        AFFX-BioC-5_at  328  295  276   \n",
       "4  AFFX-BioC-3_at (endogenous control)        AFFX-BioC-3_at -224 -226 -211   \n",
       "\n",
       "    47   48   49   41   43  ...   54   57   58   60   61   65   66   63   64  \\\n",
       "0 -243 -130 -256  -62   86  ...  -90 -137 -157 -172  -47  -62  -58 -161  -48   \n",
       "1 -218 -177 -249  -23  -36  ...  -87  -51 -370 -122 -442 -198 -217 -215 -531   \n",
       "2 -163  -28 -410   -7 -141  ...  102  -82  -77   38  -21   -5   63  -46 -124   \n",
       "3  182  266   24  142  252  ...  319  178  340   31  396  141   95  146  431   \n",
       "4 -289 -170 -535 -233 -201  ... -283 -135 -438 -201 -351 -256 -191 -172 -496   \n",
       "\n",
       "    62  \n",
       "0 -176  \n",
       "1 -284  \n",
       "2  -81  \n",
       "3    9  \n",
       "4 -294  \n",
       "\n",
       "[5 rows x 36 columns]"
      ]
     },
     "execution_count": 25,
     "metadata": {},
     "output_type": "execute_result"
    }
   ],
   "source": [
    "new_col1 = [col for col in test_x.columns if \"call\" not in col]\n",
    "test_x = test_x[new_col1]\n",
    "test_x.head()#columns contain patients from 39 to 72"
   ]
  },
  {
   "cell_type": "code",
   "execution_count": 26,
   "metadata": {
    "colab": {
     "base_uri": "https://localhost:8080/",
     "height": 104
    },
    "colab_type": "code",
    "id": "U7hzsvtT20WV",
    "outputId": "89757c9f-6825-4f21-d600-83ecae515279"
   },
   "outputs": [
    {
     "data": {
      "text/plain": [
       "Index(['Gene Description', 'Gene Accession Number', '39', '40', '42', '47',\n",
       "       '48', '49', '41', '43', '44', '45', '46', '70', '71', '72', '68', '69',\n",
       "       '67', '55', '56', '59', '52', '53', '51', '50', '54', '57', '58', '60',\n",
       "       '61', '65', '66', '63', '64', '62'],\n",
       "      dtype='object')"
      ]
     },
     "execution_count": 26,
     "metadata": {},
     "output_type": "execute_result"
    }
   ],
   "source": [
    "test_x.columns"
   ]
  },
  {
   "cell_type": "code",
   "execution_count": 27,
   "metadata": {
    "colab": {},
    "colab_type": "code",
    "id": "mxeTSaBl22rV"
   },
   "outputs": [],
   "source": [
    "test_x = test_x.transpose()"
   ]
  },
  {
   "cell_type": "code",
   "execution_count": 28,
   "metadata": {
    "colab": {
     "base_uri": "https://localhost:8080/",
     "height": 251
    },
    "colab_type": "code",
    "id": "cLGk-y2Y3GED",
    "outputId": "b29b7a0c-4173-4335-8dd2-a669384f526b"
   },
   "outputs": [
    {
     "data": {
      "text/html": [
       "<div>\n",
       "<style scoped>\n",
       "    .dataframe tbody tr th:only-of-type {\n",
       "        vertical-align: middle;\n",
       "    }\n",
       "\n",
       "    .dataframe tbody tr th {\n",
       "        vertical-align: top;\n",
       "    }\n",
       "\n",
       "    .dataframe thead th {\n",
       "        text-align: right;\n",
       "    }\n",
       "</style>\n",
       "<table border=\"1\" class=\"dataframe\">\n",
       "  <thead>\n",
       "    <tr style=\"text-align: right;\">\n",
       "      <th></th>\n",
       "      <th>0</th>\n",
       "      <th>1</th>\n",
       "      <th>2</th>\n",
       "      <th>3</th>\n",
       "      <th>4</th>\n",
       "      <th>5</th>\n",
       "      <th>6</th>\n",
       "      <th>7</th>\n",
       "      <th>8</th>\n",
       "      <th>9</th>\n",
       "      <th>...</th>\n",
       "      <th>7119</th>\n",
       "      <th>7120</th>\n",
       "      <th>7121</th>\n",
       "      <th>7122</th>\n",
       "      <th>7123</th>\n",
       "      <th>7124</th>\n",
       "      <th>7125</th>\n",
       "      <th>7126</th>\n",
       "      <th>7127</th>\n",
       "      <th>7128</th>\n",
       "    </tr>\n",
       "  </thead>\n",
       "  <tbody>\n",
       "    <tr>\n",
       "      <th>39</th>\n",
       "      <td>-342</td>\n",
       "      <td>-200</td>\n",
       "      <td>41</td>\n",
       "      <td>328</td>\n",
       "      <td>-224</td>\n",
       "      <td>-427</td>\n",
       "      <td>-656</td>\n",
       "      <td>-292</td>\n",
       "      <td>137</td>\n",
       "      <td>-144</td>\n",
       "      <td>...</td>\n",
       "      <td>277</td>\n",
       "      <td>1023</td>\n",
       "      <td>67</td>\n",
       "      <td>214</td>\n",
       "      <td>-135</td>\n",
       "      <td>1074</td>\n",
       "      <td>475</td>\n",
       "      <td>48</td>\n",
       "      <td>168</td>\n",
       "      <td>-70</td>\n",
       "    </tr>\n",
       "    <tr>\n",
       "      <th>40</th>\n",
       "      <td>-87</td>\n",
       "      <td>-248</td>\n",
       "      <td>262</td>\n",
       "      <td>295</td>\n",
       "      <td>-226</td>\n",
       "      <td>-493</td>\n",
       "      <td>367</td>\n",
       "      <td>-452</td>\n",
       "      <td>194</td>\n",
       "      <td>162</td>\n",
       "      <td>...</td>\n",
       "      <td>83</td>\n",
       "      <td>529</td>\n",
       "      <td>-295</td>\n",
       "      <td>352</td>\n",
       "      <td>-67</td>\n",
       "      <td>67</td>\n",
       "      <td>263</td>\n",
       "      <td>-33</td>\n",
       "      <td>-33</td>\n",
       "      <td>-21</td>\n",
       "    </tr>\n",
       "    <tr>\n",
       "      <th>42</th>\n",
       "      <td>22</td>\n",
       "      <td>-153</td>\n",
       "      <td>17</td>\n",
       "      <td>276</td>\n",
       "      <td>-211</td>\n",
       "      <td>-250</td>\n",
       "      <td>55</td>\n",
       "      <td>-141</td>\n",
       "      <td>0</td>\n",
       "      <td>500</td>\n",
       "      <td>...</td>\n",
       "      <td>413</td>\n",
       "      <td>399</td>\n",
       "      <td>16</td>\n",
       "      <td>558</td>\n",
       "      <td>24</td>\n",
       "      <td>893</td>\n",
       "      <td>297</td>\n",
       "      <td>6</td>\n",
       "      <td>1971</td>\n",
       "      <td>-42</td>\n",
       "    </tr>\n",
       "    <tr>\n",
       "      <th>47</th>\n",
       "      <td>-243</td>\n",
       "      <td>-218</td>\n",
       "      <td>-163</td>\n",
       "      <td>182</td>\n",
       "      <td>-289</td>\n",
       "      <td>-268</td>\n",
       "      <td>-285</td>\n",
       "      <td>-172</td>\n",
       "      <td>52</td>\n",
       "      <td>-134</td>\n",
       "      <td>...</td>\n",
       "      <td>174</td>\n",
       "      <td>277</td>\n",
       "      <td>6</td>\n",
       "      <td>81</td>\n",
       "      <td>2</td>\n",
       "      <td>722</td>\n",
       "      <td>170</td>\n",
       "      <td>0</td>\n",
       "      <td>510</td>\n",
       "      <td>-73</td>\n",
       "    </tr>\n",
       "    <tr>\n",
       "      <th>48</th>\n",
       "      <td>-130</td>\n",
       "      <td>-177</td>\n",
       "      <td>-28</td>\n",
       "      <td>266</td>\n",
       "      <td>-170</td>\n",
       "      <td>-326</td>\n",
       "      <td>-222</td>\n",
       "      <td>-93</td>\n",
       "      <td>10</td>\n",
       "      <td>159</td>\n",
       "      <td>...</td>\n",
       "      <td>233</td>\n",
       "      <td>643</td>\n",
       "      <td>51</td>\n",
       "      <td>450</td>\n",
       "      <td>-46</td>\n",
       "      <td>612</td>\n",
       "      <td>370</td>\n",
       "      <td>29</td>\n",
       "      <td>333</td>\n",
       "      <td>-19</td>\n",
       "    </tr>\n",
       "  </tbody>\n",
       "</table>\n",
       "<p>5 rows × 7129 columns</p>\n",
       "</div>"
      ],
      "text/plain": [
       "    0     1     2    3     4     5     6     7    8     9     ... 7119  7120  \\\n",
       "39  -342  -200    41  328  -224  -427  -656  -292  137  -144  ...  277  1023   \n",
       "40   -87  -248   262  295  -226  -493   367  -452  194   162  ...   83   529   \n",
       "42    22  -153    17  276  -211  -250    55  -141    0   500  ...  413   399   \n",
       "47  -243  -218  -163  182  -289  -268  -285  -172   52  -134  ...  174   277   \n",
       "48  -130  -177   -28  266  -170  -326  -222   -93   10   159  ...  233   643   \n",
       "\n",
       "    7121 7122  7123  7124 7125 7126  7127 7128  \n",
       "39    67  214  -135  1074  475   48   168  -70  \n",
       "40  -295  352   -67    67  263  -33   -33  -21  \n",
       "42    16  558    24   893  297    6  1971  -42  \n",
       "47     6   81     2   722  170    0   510  -73  \n",
       "48    51  450   -46   612  370   29   333  -19  \n",
       "\n",
       "[5 rows x 7129 columns]"
      ]
     },
     "execution_count": 28,
     "metadata": {},
     "output_type": "execute_result"
    }
   ],
   "source": [
    "test_x.drop(['Gene Description','Gene Accession Number'],axis = 0,inplace=True)\n",
    "test_x.head()"
   ]
  },
  {
   "cell_type": "code",
   "execution_count": 29,
   "metadata": {
    "colab": {},
    "colab_type": "code",
    "id": "nyO5RXxq3lYc"
   },
   "outputs": [],
   "source": [
    "new_col_list1 = []\n",
    "for i in range(test_x.columns.size) :\n",
    "  new_col_list1.append('gene '+str(i+1))\n",
    "#print(new_col_list1)\n",
    "test_x.columns = new_col_list1\n"
   ]
  },
  {
   "cell_type": "code",
   "execution_count": 30,
   "metadata": {
    "colab": {
     "base_uri": "https://localhost:8080/",
     "height": 35
    },
    "colab_type": "code",
    "id": "_uAxgWY64bK-",
    "outputId": "054db24a-5fff-41a6-87f6-3f9736ddeef8"
   },
   "outputs": [
    {
     "data": {
      "text/plain": [
       "34"
      ]
     },
     "execution_count": 30,
     "metadata": {},
     "output_type": "execute_result"
    }
   ],
   "source": [
    "test_x.index.size"
   ]
  },
  {
   "cell_type": "code",
   "execution_count": 31,
   "metadata": {
    "colab": {},
    "colab_type": "code",
    "id": "h4a19Mnt4gap"
   },
   "outputs": [],
   "source": [
    "new_row_list1 = []\n",
    "for i in range(test_x.index.size) :\n",
    "  new_row_list1.append('patient '+str(i+1))\n",
    "#print(new_row_list1)\n",
    "test_x.index = new_row_list1"
   ]
  },
  {
   "cell_type": "code",
   "execution_count": 32,
   "metadata": {
    "colab": {
     "base_uri": "https://localhost:8080/",
     "height": 355
    },
    "colab_type": "code",
    "id": "_IBfLepi45Bd",
    "outputId": "7733a97e-acce-4132-fd16-47414f14cfec"
   },
   "outputs": [
    {
     "data": {
      "text/html": [
       "<div>\n",
       "<style scoped>\n",
       "    .dataframe tbody tr th:only-of-type {\n",
       "        vertical-align: middle;\n",
       "    }\n",
       "\n",
       "    .dataframe tbody tr th {\n",
       "        vertical-align: top;\n",
       "    }\n",
       "\n",
       "    .dataframe thead th {\n",
       "        text-align: right;\n",
       "    }\n",
       "</style>\n",
       "<table border=\"1\" class=\"dataframe\">\n",
       "  <thead>\n",
       "    <tr style=\"text-align: right;\">\n",
       "      <th></th>\n",
       "      <th>gene 1</th>\n",
       "      <th>gene 2</th>\n",
       "      <th>gene 3</th>\n",
       "      <th>gene 4</th>\n",
       "      <th>gene 5</th>\n",
       "      <th>gene 6</th>\n",
       "      <th>gene 7</th>\n",
       "      <th>gene 8</th>\n",
       "      <th>gene 9</th>\n",
       "      <th>gene 10</th>\n",
       "      <th>...</th>\n",
       "      <th>gene 7120</th>\n",
       "      <th>gene 7121</th>\n",
       "      <th>gene 7122</th>\n",
       "      <th>gene 7123</th>\n",
       "      <th>gene 7124</th>\n",
       "      <th>gene 7125</th>\n",
       "      <th>gene 7126</th>\n",
       "      <th>gene 7127</th>\n",
       "      <th>gene 7128</th>\n",
       "      <th>gene 7129</th>\n",
       "    </tr>\n",
       "  </thead>\n",
       "  <tbody>\n",
       "    <tr>\n",
       "      <th>patient 1</th>\n",
       "      <td>-342</td>\n",
       "      <td>-200</td>\n",
       "      <td>41</td>\n",
       "      <td>328</td>\n",
       "      <td>-224</td>\n",
       "      <td>-427</td>\n",
       "      <td>-656</td>\n",
       "      <td>-292</td>\n",
       "      <td>137</td>\n",
       "      <td>-144</td>\n",
       "      <td>...</td>\n",
       "      <td>277</td>\n",
       "      <td>1023</td>\n",
       "      <td>67</td>\n",
       "      <td>214</td>\n",
       "      <td>-135</td>\n",
       "      <td>1074</td>\n",
       "      <td>475</td>\n",
       "      <td>48</td>\n",
       "      <td>168</td>\n",
       "      <td>-70</td>\n",
       "    </tr>\n",
       "    <tr>\n",
       "      <th>patient 2</th>\n",
       "      <td>-87</td>\n",
       "      <td>-248</td>\n",
       "      <td>262</td>\n",
       "      <td>295</td>\n",
       "      <td>-226</td>\n",
       "      <td>-493</td>\n",
       "      <td>367</td>\n",
       "      <td>-452</td>\n",
       "      <td>194</td>\n",
       "      <td>162</td>\n",
       "      <td>...</td>\n",
       "      <td>83</td>\n",
       "      <td>529</td>\n",
       "      <td>-295</td>\n",
       "      <td>352</td>\n",
       "      <td>-67</td>\n",
       "      <td>67</td>\n",
       "      <td>263</td>\n",
       "      <td>-33</td>\n",
       "      <td>-33</td>\n",
       "      <td>-21</td>\n",
       "    </tr>\n",
       "    <tr>\n",
       "      <th>patient 3</th>\n",
       "      <td>22</td>\n",
       "      <td>-153</td>\n",
       "      <td>17</td>\n",
       "      <td>276</td>\n",
       "      <td>-211</td>\n",
       "      <td>-250</td>\n",
       "      <td>55</td>\n",
       "      <td>-141</td>\n",
       "      <td>0</td>\n",
       "      <td>500</td>\n",
       "      <td>...</td>\n",
       "      <td>413</td>\n",
       "      <td>399</td>\n",
       "      <td>16</td>\n",
       "      <td>558</td>\n",
       "      <td>24</td>\n",
       "      <td>893</td>\n",
       "      <td>297</td>\n",
       "      <td>6</td>\n",
       "      <td>1971</td>\n",
       "      <td>-42</td>\n",
       "    </tr>\n",
       "    <tr>\n",
       "      <th>patient 4</th>\n",
       "      <td>-243</td>\n",
       "      <td>-218</td>\n",
       "      <td>-163</td>\n",
       "      <td>182</td>\n",
       "      <td>-289</td>\n",
       "      <td>-268</td>\n",
       "      <td>-285</td>\n",
       "      <td>-172</td>\n",
       "      <td>52</td>\n",
       "      <td>-134</td>\n",
       "      <td>...</td>\n",
       "      <td>174</td>\n",
       "      <td>277</td>\n",
       "      <td>6</td>\n",
       "      <td>81</td>\n",
       "      <td>2</td>\n",
       "      <td>722</td>\n",
       "      <td>170</td>\n",
       "      <td>0</td>\n",
       "      <td>510</td>\n",
       "      <td>-73</td>\n",
       "    </tr>\n",
       "    <tr>\n",
       "      <th>patient 5</th>\n",
       "      <td>-130</td>\n",
       "      <td>-177</td>\n",
       "      <td>-28</td>\n",
       "      <td>266</td>\n",
       "      <td>-170</td>\n",
       "      <td>-326</td>\n",
       "      <td>-222</td>\n",
       "      <td>-93</td>\n",
       "      <td>10</td>\n",
       "      <td>159</td>\n",
       "      <td>...</td>\n",
       "      <td>233</td>\n",
       "      <td>643</td>\n",
       "      <td>51</td>\n",
       "      <td>450</td>\n",
       "      <td>-46</td>\n",
       "      <td>612</td>\n",
       "      <td>370</td>\n",
       "      <td>29</td>\n",
       "      <td>333</td>\n",
       "      <td>-19</td>\n",
       "    </tr>\n",
       "  </tbody>\n",
       "</table>\n",
       "<p>5 rows × 7129 columns</p>\n",
       "</div>"
      ],
      "text/plain": [
       "          gene 1 gene 2 gene 3 gene 4 gene 5 gene 6 gene 7 gene 8 gene 9  \\\n",
       "patient 1   -342   -200     41    328   -224   -427   -656   -292    137   \n",
       "patient 2    -87   -248    262    295   -226   -493    367   -452    194   \n",
       "patient 3     22   -153     17    276   -211   -250     55   -141      0   \n",
       "patient 4   -243   -218   -163    182   -289   -268   -285   -172     52   \n",
       "patient 5   -130   -177    -28    266   -170   -326   -222    -93     10   \n",
       "\n",
       "          gene 10  ... gene 7120 gene 7121 gene 7122 gene 7123 gene 7124  \\\n",
       "patient 1    -144  ...       277      1023        67       214      -135   \n",
       "patient 2     162  ...        83       529      -295       352       -67   \n",
       "patient 3     500  ...       413       399        16       558        24   \n",
       "patient 4    -134  ...       174       277         6        81         2   \n",
       "patient 5     159  ...       233       643        51       450       -46   \n",
       "\n",
       "          gene 7125 gene 7126 gene 7127 gene 7128 gene 7129  \n",
       "patient 1      1074       475        48       168       -70  \n",
       "patient 2        67       263       -33       -33       -21  \n",
       "patient 3       893       297         6      1971       -42  \n",
       "patient 4       722       170         0       510       -73  \n",
       "patient 5       612       370        29       333       -19  \n",
       "\n",
       "[5 rows x 7129 columns]"
      ]
     },
     "execution_count": 32,
     "metadata": {},
     "output_type": "execute_result"
    }
   ],
   "source": [
    "test_x.head()"
   ]
  },
  {
   "cell_type": "code",
   "execution_count": 33,
   "metadata": {
    "colab": {
     "base_uri": "https://localhost:8080/",
     "height": 35
    },
    "colab_type": "code",
    "id": "vhp48BKX47DZ",
    "outputId": "446e0c0a-383f-4ee1-bdf7-ed54057b0f3f"
   },
   "outputs": [
    {
     "data": {
      "text/plain": [
       "34"
      ]
     },
     "execution_count": 33,
     "metadata": {},
     "output_type": "execute_result"
    }
   ],
   "source": [
    "test_y = y.iloc[38:,:].values\n",
    "test_y.size"
   ]
  },
  {
   "cell_type": "markdown",
   "metadata": {
    "colab_type": "text",
    "id": "nQZyn-32559c"
   },
   "source": [
    "x,train_y,test_x,test_y are the splited dataset for training and testing purpose"
   ]
  },
  {
   "cell_type": "code",
   "execution_count": 34,
   "metadata": {
    "colab": {
     "base_uri": "https://localhost:8080/",
     "height": 69
    },
    "colab_type": "code",
    "id": "ojoxu5Ah5r9S",
    "outputId": "165c8364-82de-4e85-d053-e61179a536d5"
   },
   "outputs": [
    {
     "name": "stdout",
     "output_type": "stream",
     "text": [
      "(38, 7129) (38, 1)\n",
      "(34, 7129) (34, 1)\n",
      "<class 'pandas.core.frame.DataFrame'>\n"
     ]
    }
   ],
   "source": [
    "print(x.shape,train_y.shape)\n",
    "print(test_x.shape,test_y.shape)\n",
    "print(type(x))"
   ]
  },
  {
   "cell_type": "markdown",
   "metadata": {
    "colab_type": "text",
    "id": "0FL5sDh66xPa"
   },
   "source": [
    "#scaling the features and apply PCA\n",
    "\n",
    "\n"
   ]
  },
  {
   "cell_type": "code",
   "execution_count": 35,
   "metadata": {
    "colab": {},
    "colab_type": "code",
    "id": "OClPY28Hbp8v"
   },
   "outputs": [],
   "source": [
    "X_train_fl = x.astype(float, 64)\n",
    "X_test_fl = test_x.astype(float, 64)\n",
    "\n",
    "# Apply the same scaling to both datasets\n"
   ]
  },
  {
   "cell_type": "code",
   "execution_count": 36,
   "metadata": {
    "colab": {
     "base_uri": "https://localhost:8080/",
     "height": 243
    },
    "colab_type": "code",
    "id": "Pe8pKhCs6u2P",
    "outputId": "6f91552d-4ee5-446f-9f8c-e96e0fc06bea"
   },
   "outputs": [
    {
     "data": {
      "text/plain": [
       "array([[-0.86149567, -0.03310102, -0.3517011 , ...,  0.54606799,\n",
       "        -0.43582025, -0.25587506],\n",
       "       [-0.16772267,  1.03740009,  0.13913948, ..., -0.26704265,\n",
       "        -0.59574421,  0.49964792],\n",
       "       [ 0.41504666,  1.35855042, -2.49589941, ...,  0.70869012,\n",
       "        -0.38436645, -0.38727036],\n",
       "       ...,\n",
       "       [ 0.82206015,  1.35855042,  0.56970139, ..., -1.4704464 ,\n",
       "        -0.51647755, -0.09163093],\n",
       "       [-0.02896807,  0.95711251, -0.1708651 , ...,  0.64364126,\n",
       "        -0.28702143,  0.86098499],\n",
       "       [-0.13072144, -0.47468273, -0.45503596, ..., -1.01510444,\n",
       "         0.397175  ,  0.63104322]])"
      ]
     },
     "execution_count": 36,
     "metadata": {},
     "output_type": "execute_result"
    }
   ],
   "source": [
    "from sklearn.preprocessing import StandardScaler\n",
    "scaler = StandardScaler()\n",
    "X_train_scl = scaler.fit_transform(X_train_fl)\n",
    "X_test_scl = scaler.transform(X_test_fl)\n",
    "X_train_scl"
   ]
  },
  {
   "cell_type": "code",
   "execution_count": 37,
   "metadata": {
    "colab": {
     "base_uri": "https://localhost:8080/",
     "height": 243
    },
    "colab_type": "code",
    "id": "EZJ9Lyvt9ojT",
    "outputId": "4a786074-0cc9-4d34-a1f8-27c408989e63"
   },
   "outputs": [
    {
     "data": {
      "text/plain": [
       "array([[-2.04553493, -0.66202042,  0.50081149, ...,  0.93636109,\n",
       "        -0.46780504, -1.33988628],\n",
       "       [ 0.31329328, -1.30432109,  2.40389513, ..., -1.69811738,\n",
       "        -0.74732431,  0.26970614],\n",
       "       [ 1.32157672, -0.03310102,  0.29414177, ..., -0.42966478,\n",
       "         2.03952457, -0.42011918],\n",
       "       ...,\n",
       "       [-0.37122942, -0.86273938, -0.24836624, ..., -0.68986018,\n",
       "        -0.40939803,  1.48511266],\n",
       "       [ 0.67405525, -5.09121877, -0.92004282, ..., -0.62481133,\n",
       "        -0.30649043, -1.43843275],\n",
       "       [-0.50998402, -1.78604659, -0.54975958, ...,  0.02567718,\n",
       "        -0.17437933, -1.01139803]])"
      ]
     },
     "execution_count": 37,
     "metadata": {},
     "output_type": "execute_result"
    }
   ],
   "source": [
    "X_test_scl"
   ]
  },
  {
   "cell_type": "markdown",
   "metadata": {
    "colab_type": "text",
    "id": "o9fasB1bv6ps"
   },
   "source": [
    "# fitting the dataset with ANN"
   ]
  },
  {
   "cell_type": "code",
   "execution_count": 38,
   "metadata": {
    "colab": {},
    "colab_type": "code",
    "id": "cg0Un3R_v6Mx"
   },
   "outputs": [
    {
     "name": "stderr",
     "output_type": "stream",
     "text": [
      "Using TensorFlow backend.\n"
     ]
    }
   ],
   "source": [
    "import keras\n",
    "from keras.models import Sequential\n",
    "from keras.layers import Dense"
   ]
  },
  {
   "cell_type": "code",
   "execution_count": 39,
   "metadata": {
    "colab": {},
    "colab_type": "code",
    "id": "N-bHe1b8w7AR"
   },
   "outputs": [],
   "source": [
    "classifier  = Sequential()"
   ]
  },
  {
   "cell_type": "code",
   "execution_count": 40,
   "metadata": {
    "colab": {},
    "colab_type": "code",
    "id": "Nz4ImpDLyHXP"
   },
   "outputs": [],
   "source": [
    "classifier.add(Dense(kernel_initializer=\"uniform\", activation=\"relu\", input_dim=7129, units=16))\n",
    "classifier.add(Dense(kernel_initializer=\"uniform\", activation=\"relu\",units = 6))\n",
    "classifier.add(Dense(kernel_initializer=\"uniform\", activation=\"sigmoid\",units = 1))\n"
   ]
  },
  {
   "cell_type": "code",
   "execution_count": 41,
   "metadata": {
    "colab": {},
    "colab_type": "code",
    "id": "ryHB0GFVyisl"
   },
   "outputs": [],
   "source": [
    "classifier.compile(optimizer = 'adam', loss = 'binary_crossentropy', metrics = ['accuracy'])"
   ]
  },
  {
   "cell_type": "code",
   "execution_count": 42,
   "metadata": {
    "colab": {
     "base_uri": "https://localhost:8080/",
     "height": 884
    },
    "colab_type": "code",
    "id": "6YQ_9roNynmU",
    "outputId": "42ec392e-6b28-4c67-df86-0de2b86a2960"
   },
   "outputs": [
    {
     "name": "stdout",
     "output_type": "stream",
     "text": [
      "Epoch 1/25\n",
      "38/38 [==============================] - 1s 23ms/step - loss: 0.6848 - accuracy: 0.6842\n",
      "Epoch 2/25\n",
      "38/38 [==============================] - 0s 912us/step - loss: 0.6328 - accuracy: 0.7632\n",
      "Epoch 3/25\n",
      "38/38 [==============================] - 0s 828us/step - loss: 0.5613 - accuracy: 0.9211\n",
      "Epoch 4/25\n",
      "38/38 [==============================] - 0s 753us/step - loss: 0.4710 - accuracy: 0.9737\n",
      "Epoch 5/25\n",
      "38/38 [==============================] - 0s 870us/step - loss: 0.3732 - accuracy: 0.9737\n",
      "Epoch 6/25\n",
      "38/38 [==============================] - 0s 862us/step - loss: 0.2662 - accuracy: 1.0000\n",
      "Epoch 7/25\n",
      "38/38 [==============================] - 0s 860us/step - loss: 0.1607 - accuracy: 1.0000\n",
      "Epoch 8/25\n",
      "38/38 [==============================] - 0s 917us/step - loss: 0.0792 - accuracy: 1.0000\n",
      "Epoch 9/25\n",
      "38/38 [==============================] - 0s 835us/step - loss: 0.0364 - accuracy: 1.0000\n",
      "Epoch 10/25\n",
      "38/38 [==============================] - 0s 896us/step - loss: 0.0195 - accuracy: 1.0000\n",
      "Epoch 11/25\n",
      "38/38 [==============================] - 0s 906us/step - loss: 0.0104 - accuracy: 1.0000\n",
      "Epoch 12/25\n",
      "38/38 [==============================] - 0s 868us/step - loss: 0.0071 - accuracy: 1.0000\n",
      "Epoch 13/25\n",
      "38/38 [==============================] - 0s 816us/step - loss: 0.0052 - accuracy: 1.0000\n",
      "Epoch 14/25\n",
      "38/38 [==============================] - 0s 709us/step - loss: 0.0040 - accuracy: 1.0000\n",
      "Epoch 15/25\n",
      "38/38 [==============================] - 0s 908us/step - loss: 0.0033 - accuracy: 1.0000\n",
      "Epoch 16/25\n",
      "38/38 [==============================] - 0s 854us/step - loss: 0.0027 - accuracy: 1.0000\n",
      "Epoch 17/25\n",
      "38/38 [==============================] - 0s 886us/step - loss: 0.0023 - accuracy: 1.0000\n",
      "Epoch 18/25\n",
      "38/38 [==============================] - 0s 876us/step - loss: 0.0020 - accuracy: 1.0000\n",
      "Epoch 19/25\n",
      "38/38 [==============================] - 0s 987us/step - loss: 0.0018 - accuracy: 1.0000\n",
      "Epoch 20/25\n",
      "38/38 [==============================] - 0s 864us/step - loss: 0.0016 - accuracy: 1.0000\n",
      "Epoch 21/25\n",
      "38/38 [==============================] - 0s 880us/step - loss: 0.0014 - accuracy: 1.0000\n",
      "Epoch 22/25\n",
      "38/38 [==============================] - 0s 964us/step - loss: 0.0013 - accuracy: 1.0000\n",
      "Epoch 23/25\n",
      "38/38 [==============================] - 0s 1ms/step - loss: 0.0012 - accuracy: 1.0000\n",
      "Epoch 24/25\n",
      "38/38 [==============================] - 0s 1ms/step - loss: 0.0011 - accuracy: 1.0000\n",
      "Epoch 25/25\n",
      "38/38 [==============================] - 0s 984us/step - loss: 9.5801e-04 - accuracy: 1.0000\n"
     ]
    }
   ],
   "source": [
    "classifier.fit(X_train_scl,train_y,batch_size = 3,epochs = 25)\n",
    "y_pred = classifier.predict_classes(X_test_scl)"
   ]
  },
  {
   "cell_type": "code",
   "execution_count": 43,
   "metadata": {
    "colab": {
     "base_uri": "https://localhost:8080/",
     "height": 52
    },
    "colab_type": "code",
    "id": "Q8I8KRrb0SnF",
    "outputId": "c48588c7-880f-4b5a-b028-12ad25afee4c"
   },
   "outputs": [
    {
     "name": "stdout",
     "output_type": "stream",
     "text": [
      "[0 0 1 0 0 0 0 0 0 0 0 0 0 0 0 0 0 0 0 0 1 1 1 1 0 0 1 1 1 1 0 1 0 1]\n",
      "[0 0 0 0 0 0 0 0 0 0 0 1 1 1 1 1 0 0 1 1 0 1 1 1 1 1 1 1 0 0 0 0 0 0]\n"
     ]
    }
   ],
   "source": [
    "print(y_pred.ravel())\n",
    "print(test_y.ravel())"
   ]
  },
  {
   "cell_type": "code",
   "execution_count": 44,
   "metadata": {
    "colab": {
     "base_uri": "https://localhost:8080/",
     "height": 69
    },
    "colab_type": "code",
    "id": "tphNP6H60o1z",
    "outputId": "e301c68e-8424-4add-b3b8-db1167a12057"
   },
   "outputs": [
    {
     "name": "stdout",
     "output_type": "stream",
     "text": [
      "[[14  6]\n",
      " [ 9  5]]\n",
      "Accuracy:  0.5588235294117647\n"
     ]
    }
   ],
   "source": [
    "\n",
    "from sklearn.metrics import confusion_matrix, accuracy_score\n",
    "cm = confusion_matrix(test_y,y_pred)\n",
    "print(cm)\n",
    "print('Accuracy: ', accuracy_score(test_y,y_pred))"
   ]
  },
  {
   "cell_type": "markdown",
   "metadata": {
    "colab_type": "text",
    "id": "5u8-EN0A-Kys"
   },
   "source": [
    "Using principal component analysis for reducing the dimension---here no of dimensions = 7129 "
   ]
  },
  {
   "cell_type": "code",
   "execution_count": 45,
   "metadata": {
    "colab": {},
    "colab_type": "code",
    "id": "yvt7gEYk_CRd"
   },
   "outputs": [],
   "source": [
    "from sklearn.decomposition import PCA\n",
    "pca = PCA()\n",
    "\n"
   ]
  },
  {
   "cell_type": "code",
   "execution_count": 46,
   "metadata": {
    "colab": {},
    "colab_type": "code",
    "id": "jSeidsKxS7TU"
   },
   "outputs": [],
   "source": [
    "\n",
    "#pca.fit_transform(x)"
   ]
  },
  {
   "cell_type": "code",
   "execution_count": null,
   "metadata": {
    "colab": {},
    "colab_type": "code",
    "id": "dJGnBcZPRqJX"
   },
   "outputs": [],
   "source": [
    "\n"
   ]
  },
  {
   "cell_type": "code",
   "execution_count": 47,
   "metadata": {
    "colab": {},
    "colab_type": "code",
    "id": "pgeC9ojt_Qvk"
   },
   "outputs": [],
   "source": [
    "#print(pca.n_components_)\n",
    "#pca.explained_variance_ratio_"
   ]
  },
  {
   "cell_type": "code",
   "execution_count": 48,
   "metadata": {
    "colab": {},
    "colab_type": "code",
    "id": "PeFiQd10KHso"
   },
   "outputs": [],
   "source": [
    "#sum(pca.explained_variance_)"
   ]
  },
  {
   "cell_type": "code",
   "execution_count": 49,
   "metadata": {
    "colab": {},
    "colab_type": "code",
    "id": "tFWr6IHlCbnK"
   },
   "outputs": [
    {
     "data": {
      "text/plain": [
       "'total = sum(pca.explained_variance_)\\nk = 0\\ncurrent_variance = 0\\nwhile current_variance/total <= 0.90:\\n    current_variance += pca.explained_variance_[k]\\n    k = k + 1\\nprint(\"90 percent variance can be found out using : \",k,\"components\")'"
      ]
     },
     "execution_count": 49,
     "metadata": {},
     "output_type": "execute_result"
    }
   ],
   "source": [
    "'''total = sum(pca.explained_variance_)\n",
    "k = 0\n",
    "current_variance = 0\n",
    "while current_variance/total <= 0.90:\n",
    "    current_variance += pca.explained_variance_[k]\n",
    "    k = k + 1\n",
    "print(\"90 percent variance can be found out using : \",k,\"components\")'''"
   ]
  },
  {
   "cell_type": "code",
   "execution_count": 54,
   "metadata": {
    "colab": {},
    "colab_type": "code",
    "id": "xHGd2o3XE_61"
   },
   "outputs": [
    {
     "data": {
      "text/plain": [
       "'pca1 = PCA(n_components = 28)\\nx_train = pca1.fit_transform(x)\\nx_test = pca1.transform(test_x)\\nprint(k)'"
      ]
     },
     "execution_count": 54,
     "metadata": {},
     "output_type": "execute_result"
    }
   ],
   "source": [
    "'''pca1 = PCA(n_components = 28)\n",
    "x_train = pca1.fit_transform(x)\n",
    "x_test = pca1.transform(test_x)\n",
    "print(k)'''"
   ]
  },
  {
   "cell_type": "code",
   "execution_count": 55,
   "metadata": {
    "colab": {},
    "colab_type": "code",
    "id": "S4wLszzrWWaa"
   },
   "outputs": [],
   "source": [
    "pca = PCA(n_components=22)\n",
    "x.pca = pca.fit(x)\n",
    "#X_train.pca = pca.fit(x)\n",
    "x_pca = pca.transform(x)\n",
    "test_x_pca = pca.transform(test_x)\n"
   ]
  },
  {
   "cell_type": "code",
   "execution_count": 56,
   "metadata": {
    "colab": {},
    "colab_type": "code",
    "id": "vvO6g9DYE1YJ"
   },
   "outputs": [
    {
     "name": "stdout",
     "output_type": "stream",
     "text": [
      "[0.16108456 0.13700078 0.11971823 0.07469117 0.06077554 0.0474747\n",
      " 0.03657451 0.03228433 0.0288761  0.02446324 0.02273929 0.02089143\n",
      " 0.0178287  0.01737725 0.01604978 0.01550842 0.01383699 0.01313898\n",
      " 0.01281908 0.0110944  0.01063058 0.01003621]\n",
      "0.9048942615253442\n"
     ]
    }
   ],
   "source": [
    "explained_variance = pca.explained_variance_ratio_\n",
    "print(explained_variance)\n",
    "print(np.sum(explained_variance))"
   ]
  },
  {
   "cell_type": "markdown",
   "metadata": {
    "colab_type": "text",
    "id": "BqShCJn2GYjb"
   },
   "source": [
    "# fitting the dataset with naive bayesian classifier"
   ]
  },
  {
   "cell_type": "code",
   "execution_count": 57,
   "metadata": {
    "colab": {},
    "colab_type": "code",
    "id": "0DzuYUd-G4A4"
   },
   "outputs": [
    {
     "data": {
      "text/plain": [
       "GaussianNB(priors=None, var_smoothing=1e-09)"
      ]
     },
     "execution_count": 57,
     "metadata": {},
     "output_type": "execute_result"
    }
   ],
   "source": [
    "from sklearn.naive_bayes import GaussianNB\n",
    "gnb_classifier = GaussianNB()\n",
    "gnb_classifier.fit(x_pca,train_y.ravel())\n"
   ]
  },
  {
   "cell_type": "code",
   "execution_count": 58,
   "metadata": {
    "colab": {},
    "colab_type": "code",
    "id": "yjJfMRtSUZ3V"
   },
   "outputs": [
    {
     "name": "stdout",
     "output_type": "stream",
     "text": [
      "[0 0 0 0 0 0 0 1 0 0 0 0 0 0 0 0 0 1 0 0 1 1 1 1 0 0 1 1 1 0 1 1 0 1]\n",
      "[0 0 0 0 0 0 0 0 0 0 0 1 1 1 1 1 0 0 1 1 0 1 1 1 1 1 1 1 0 0 0 0 0 0]\n"
     ]
    }
   ],
   "source": [
    "y_pred = gnb_classifier.predict(test_x_pca)\n",
    "print(y_pred)\n",
    "print(test_y.ravel())"
   ]
  },
  {
   "cell_type": "code",
   "execution_count": 59,
   "metadata": {
    "colab": {},
    "colab_type": "code",
    "id": "X_Dw6iZFJzcL"
   },
   "outputs": [
    {
     "name": "stdout",
     "output_type": "stream",
     "text": [
      "[[13  7]\n",
      " [ 9  5]]\n",
      "Accuracy:  0.5294117647058824\n"
     ]
    }
   ],
   "source": [
    "from sklearn.metrics import confusion_matrix, accuracy_score\n",
    "cm = confusion_matrix(test_y,y_pred)\n",
    "print(cm)\n",
    "print('Accuracy: ', accuracy_score(test_y,y_pred))"
   ]
  },
  {
   "cell_type": "code",
   "execution_count": 60,
   "metadata": {
    "colab": {},
    "colab_type": "code",
    "id": "_EZdkhHILYgo"
   },
   "outputs": [
    {
     "data": {
      "image/png": "[encoded data removed]",
      "text/plain": [
       "<Figure size 432x288 with 2 Axes>"
      ]
     },
     "metadata": {
      "needs_background": "light"
     },
     "output_type": "display_data"
    }
   ],
   "source": [
    "sns.heatmap(cm,annot=True,cmap='Greens_r')\n",
    "plt.title(\"confusion matrix\")\n",
    "plt.xlabel(\"cancer types\")\n",
    "plt.ylabel(\"cancer types\")\n",
    "plt.show()"
   ]
  },
  {
   "cell_type": "markdown",
   "metadata": {
    "colab_type": "text",
    "id": "B69e6nvcTD-u"
   },
   "source": [
    "#fitting the dataset with logistic regression"
   ]
  },
  {
   "cell_type": "code",
   "execution_count": 61,
   "metadata": {
    "colab": {},
    "colab_type": "code",
    "id": "7uqbXcyFTC7r"
   },
   "outputs": [
    {
     "data": {
      "text/plain": [
       "LogisticRegression(C=1.0, class_weight=None, dual=False, fit_intercept=True,\n",
       "                   intercept_scaling=1, l1_ratio=None, max_iter=100,\n",
       "                   multi_class='auto', n_jobs=None, penalty='l1',\n",
       "                   random_state=None, solver='liblinear', tol=0.0001, verbose=0,\n",
       "                   warm_start=False)"
      ]
     },
     "execution_count": 61,
     "metadata": {},
     "output_type": "execute_result"
    }
   ],
   "source": [
    "from sklearn.linear_model import LogisticRegression\n",
    "lr_classifier = LogisticRegression(solver='liblinear',penalty='l1')\n",
    "lr_classifier.fit(x,train_y.ravel())"
   ]
  },
  {
   "cell_type": "code",
   "execution_count": 62,
   "metadata": {
    "colab": {},
    "colab_type": "code",
    "id": "JWXpD6sDT_mk"
   },
   "outputs": [
    {
     "data": {
      "text/plain": [
       "array([0, 0, 0, 0, 0, 0, 0, 0, 0, 0, 0, 0, 0, 0, 0, 0, 0, 0, 0, 0, 1, 1,\n",
       "       1, 1, 1, 1, 1, 1, 1, 1, 1, 1, 1, 1], dtype=uint8)"
      ]
     },
     "execution_count": 62,
     "metadata": {},
     "output_type": "execute_result"
    }
   ],
   "source": [
    "y_pred = lr_classifier.predict(test_x)\n",
    "y_pred"
   ]
  },
  {
   "cell_type": "code",
   "execution_count": 63,
   "metadata": {
    "colab": {},
    "colab_type": "code",
    "id": "OjsCO_O8Uhh9"
   },
   "outputs": [
    {
     "name": "stdout",
     "output_type": "stream",
     "text": [
      "[[13  7]\n",
      " [ 7  7]]\n",
      "Accuracy:  0.5882352941176471\n"
     ]
    }
   ],
   "source": [
    "from sklearn.metrics import confusion_matrix\n",
    "cm = confusion_matrix(test_y,y_pred)\n",
    "print(cm)\n",
    "print('Accuracy: ', accuracy_score(test_y,y_pred))"
   ]
  },
  {
   "cell_type": "code",
   "execution_count": 64,
   "metadata": {
    "colab": {},
    "colab_type": "code",
    "id": "7UZOCsMXUoLc"
   },
   "outputs": [
    {
     "data": {
      "image/png": "[encoded data removed]",
      "text/plain": [
       "<Figure size 432x288 with 2 Axes>"
      ]
     },
     "metadata": {
      "needs_background": "light"
     },
     "output_type": "display_data"
    }
   ],
   "source": [
    "sns.heatmap(cm,annot=True,cmap='Accent')\n",
    "plt.title(\"confusion matrix\")\n",
    "plt.xlabel(\"cancer types\")\n",
    "plt.ylabel(\"cancer types\")\n",
    "plt.show()"
   ]
  },
  {
   "cell_type": "markdown",
   "metadata": {
    "colab_type": "text",
    "id": "WRAVXhojQF20"
   },
   "source": [
    "# fitting the dataset with K-Nearest Neighbour"
   ]
  },
  {
   "cell_type": "code",
   "execution_count": 65,
   "metadata": {
    "colab": {},
    "colab_type": "code",
    "id": "Hw_Bz-NKGEb4"
   },
   "outputs": [
    {
     "name": "stderr",
     "output_type": "stream",
     "text": [
      "C:\\Users\\hp\\Anaconda3\\lib\\site-packages\\ipykernel_launcher.py:3: DataConversionWarning: A column-vector y was passed when a 1d array was expected. Please change the shape of y to (n_samples, ), for example using ravel().\n",
      "  This is separate from the ipykernel package so we can avoid doing imports until\n"
     ]
    },
    {
     "data": {
      "text/plain": [
       "KNeighborsClassifier(algorithm='auto', leaf_size=30, metric='minkowski',\n",
       "                     metric_params=None, n_jobs=None, n_neighbors=7, p=2,\n",
       "                     weights='uniform')"
      ]
     },
     "execution_count": 65,
     "metadata": {},
     "output_type": "execute_result"
    }
   ],
   "source": [
    "from sklearn.neighbors import KNeighborsClassifier\n",
    "classifier = KNeighborsClassifier(n_neighbors = 7,metric = 'minkowski',p=2) #euclidean distance\n",
    "classifier.fit(x,train_y)"
   ]
  },
  {
   "cell_type": "code",
   "execution_count": 66,
   "metadata": {
    "colab": {},
    "colab_type": "code",
    "id": "_mjSv2PWKlgC"
   },
   "outputs": [
    {
     "data": {
      "text/plain": [
       "array([0, 0, 0, 0, 0, 0, 0, 0, 0, 0, 0, 0, 0, 0, 0, 0, 0, 0, 0, 0, 1, 1,\n",
       "       1, 1, 1, 1, 1, 1, 1, 1, 1, 1, 1, 1], dtype=uint8)"
      ]
     },
     "execution_count": 66,
     "metadata": {},
     "output_type": "execute_result"
    }
   ],
   "source": [
    "y_pred = lr_classifier.predict(test_x)\n",
    "y_pred"
   ]
  },
  {
   "cell_type": "code",
   "execution_count": 67,
   "metadata": {
    "colab": {},
    "colab_type": "code",
    "id": "nyuDCWfJKmlD"
   },
   "outputs": [
    {
     "name": "stdout",
     "output_type": "stream",
     "text": [
      "[[13  7]\n",
      " [ 7  7]]\n",
      "Accuracy:  0.5882352941176471\n"
     ]
    }
   ],
   "source": [
    "from sklearn.metrics import confusion_matrix\n",
    "cm = confusion_matrix(test_y,y_pred)\n",
    "print(cm)\n",
    "print('Accuracy: ', accuracy_score(test_y,y_pred))"
   ]
  },
  {
   "cell_type": "code",
   "execution_count": 68,
   "metadata": {
    "colab": {},
    "colab_type": "code",
    "id": "i-a4jz3jKrA9"
   },
   "outputs": [
    {
     "data": {
      "image/png": "[encoded data removed]",
      "text/plain": [
       "<Figure size 432x288 with 2 Axes>"
      ]
     },
     "metadata": {
      "needs_background": "light"
     },
     "output_type": "display_data"
    }
   ],
   "source": [
    "sns.heatmap(cm,annot=True,cmap='Pastel1')\n",
    "plt.title(\"confusion matrix\")\n",
    "plt.xlabel(\"cancer types\")\n",
    "plt.ylabel(\"cancer types\")\n",
    "plt.show()\n"
   ]
  },
  {
   "cell_type": "code",
   "execution_count": 69,
   "metadata": {
    "colab": {},
    "colab_type": "code",
    "id": "lDbz6JlSWtF9"
   },
   "outputs": [
    {
     "name": "stdout",
     "output_type": "stream",
     "text": [
      "(38, 22)\n",
      "(34, 22)\n"
     ]
    }
   ],
   "source": [
    "print(x_pca.shape)\n",
    "print(test_x_pca.shape)"
   ]
  }
 ],
 "metadata": {
  "accelerator": "GPU",
  "colab": {
   "collapsed_sections": [],
   "name": "bio_gene_expression_pro.ipynb",
   "provenance": []
  },
  "kernelspec": {
   "display_name": "Python 3",
   "language": "python",
   "name": "python3"
  },
  "language_info": {
   "codemirror_mode": {
    "name": "ipython",
    "version": 3
   },
   "file_extension": ".py",
   "mimetype": "text/x-python",
   "name": "python",
   "nbconvert_exporter": "python",
   "pygments_lexer": "ipython3",
   "version": "3.7.3"
  }
 },
 "nbformat": 4,
 "nbformat_minor": 1
}
